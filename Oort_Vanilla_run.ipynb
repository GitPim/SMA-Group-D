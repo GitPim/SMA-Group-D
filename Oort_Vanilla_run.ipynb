{
 "cells": [
  {
   "cell_type": "code",
   "execution_count": null,
   "metadata": {},
   "outputs": [],
   "source": [
    "directory = \"/data/s1968653/Vanilla_output/\""
   ]
  },
  {
   "cell_type": "code",
   "execution_count": null,
   "metadata": {},
   "outputs": [],
   "source": [
    "#Here we import all the necessary dependencies\n",
    "import numpy as np\n",
    "import matplotlib.pyplot as plt\n",
    "import time\n",
    "import amuse.plot as plot\n",
    "from tqdm import tqdm\n",
    "from IPython.display import clear_output\n",
    "from amuse.lab import units, constants\n",
    "from amuse.ext.orbital_elements import new_binary_from_orbital_elements\n",
    "from amuse.ext.orbital_elements import get_orbital_elements_from_binary\n",
    "from amuse.lab import Particles\n",
    "from amuse.lab import nbody_system\n",
    "from amuse.couple import bridge\n",
    "from amuse.lab import Rebound\n",
    "from amuse.lab import Mercury\n",
    "from amuse.community.ph4.interface import ph4\n",
    "from amuse.io import write_set_to_file, read_set_from_file"
   ]
  },
  {
   "cell_type": "code",
   "execution_count": null,
   "metadata": {},
   "outputs": [],
   "source": [
    "def random_positions_and_velocities(N_objects, sun_loc):\n",
    "    positions = np.zeros((N_objects, 3)) | units.AU\n",
    "    velocities = np.zeros((N_objects,3)) | units.kms\n",
    "    \n",
    "    m_sun = 1 | units.MSun\n",
    "    m_oort = 0 | units.MSun\n",
    "    for i in range(N_objects):\n",
    "        a = np.random.uniform(4, 40) | units.AU\n",
    "        e = np.random.uniform(0, 0.05)\n",
    "        inclination = np.random.uniform(-5, 5) | units.deg\n",
    "        true_anomaly = np.random.uniform (0, 360) | units.deg\n",
    "        arg_of_periapsis = np.random.uniform(0, 360) | units.deg\n",
    "        long_of_ascending_node = np.random.uniform(0, 360) | units.deg\n",
    "        sun_and_oort = new_binary_from_orbital_elements(m_sun, m_oort, \n",
    "                                          a, e, true_anomaly, inclination, long_of_ascending_node, arg_of_periapsis, G=constants.G)\n",
    "        positions[i] = (sun_and_oort[1].x+sun_loc[0]), (sun_and_oort[1].y+sun_loc[1]), (sun_and_oort[1].z+sun_loc[2])\n",
    "        velocities[i]= sun_and_oort[1].vx, sun_and_oort[1].vy, sun_and_oort[1].vz\n",
    "    return positions, velocities"
   ]
  },
  {
   "cell_type": "code",
   "execution_count": null,
   "metadata": {},
   "outputs": [],
   "source": [
    "def merge_two_bodies(bodies, particles_in_encounter):\n",
    "    d = (particles_in_encounter[0].position - particles_in_encounter[1].position)\n",
    "    v = (particles_in_encounter[0].velocity - particles_in_encounter[1].velocity)\n",
    "    print(\"Actually merger occurred:\")\n",
    "    print(\"Two objects (M=\",particles_in_encounter.mass.in_(units.MSun),\n",
    "          \") collided with d=\", d.length().in_(units.au))\n",
    "    \n",
    "    if particles_in_encounter[0].mass == 0 | units.MSun:\n",
    "        bodies.remove_particle(particles_in_encounter[0])\n",
    "    elif particles_in_encounter[1].mass == 0 | units.MSun:\n",
    "        bodies.remove_particle(particles_in_encounter[1])\n",
    "    elif particles_in_encounter[0].mass == 0 | units.MSun and particles_in_encounter[1].mass == 0 | units.MSun:\n",
    "        bodies.remove_particles(particles_in_encounter)"
   ]
  },
  {
   "cell_type": "code",
   "execution_count": null,
   "metadata": {},
   "outputs": [],
   "source": [
    "def resolve_collision(collision_detection, gravity_code, bodies, time):\n",
    "    print(\"Well, we have an actual collision between two or more objects.\")\n",
    "    print(\"This happened at time=\", time.in_(units.yr))\n",
    "    for ci in range(len(collision_detection.particles(0))): \n",
    "        encountering_particles = Particles(particles=[collision_detection.particles(0)[ci],\n",
    "                                                          collision_detection.particles(1)[ci]])\n",
    "        colliding_objects = encountering_particles.get_intersecting_subset_in(bodies)\n",
    "        merge_two_bodies(bodies, colliding_objects)\n",
    "        bodies.synchronize_to(gravity_code.particles)"
   ]
  },
  {
   "cell_type": "code",
   "execution_count": null,
   "metadata": {},
   "outputs": [],
   "source": [
    "#Here we generate a basic solarsystem, with only the gas giants\n",
    "from amuse.ext.solarsystem import new_solar_system\n",
    "\n",
    "def create_system():\n",
    "    \n",
    "    system = new_solar_system()\n",
    "    system = system[system.mass > 10**-5 | units.MSun]\n",
    "    system.move_to_center()\n",
    "    return system\n",
    "    \n",
    "    \n",
    "basic_giants_system = create_system()"
   ]
  },
  {
   "cell_type": "code",
   "execution_count": null,
   "metadata": {},
   "outputs": [],
   "source": [
    "#Define the number of Oort objects and create random velocities and positions\n",
    "N_objects = 10**2\n",
    "sun_loc = [basic_giants_system[0].x.in_(units.AU), basic_giants_system[0].y.in_(units.AU), basic_giants_system[0].z.in_(units.AU)]\n",
    "positions, velocities = random_positions_and_velocities(N_objects, sun_loc)"
   ]
  },
  {
   "cell_type": "code",
   "execution_count": null,
   "metadata": {},
   "outputs": [],
   "source": [
    "#Here we add the Oort cloud objects, according to a chosen distribution\n",
    "def add_comet_objects(system, N_objects, rand_pos, rand_vel):\n",
    "    \n",
    "    for i in tqdm(range(N_objects)):\n",
    "        oort = Particles(1)\n",
    "        oort.name = \"OORT_\" + str(i)\n",
    "        oort.mass = 0.0 | units.MSun\n",
    "        oort.radius = (2.3 | units.km).in_(units.RSun) #This is purely non-zero for collisional purposes\n",
    "        oort.position = (rand_pos[i, 0], rand_pos[i, 1], rand_pos[i, 2])\n",
    "        oort.velocity = (rand_vel[i, 0], rand_vel[i, 1], rand_vel[i, 2])\n",
    "\n",
    "        system.add_particle(oort)\n",
    "    return system\n",
    "\n",
    "complete_system = add_comet_objects(basic_giants_system, N_objects, positions, velocities)"
   ]
  },
  {
   "cell_type": "code",
   "execution_count": null,
   "metadata": {},
   "outputs": [],
   "source": [
    "final_system = complete_system\n",
    "final_system.move_to_center()"
   ]
  },
  {
   "cell_type": "code",
   "execution_count": null,
   "metadata": {},
   "outputs": [],
   "source": [
    "#Here we perform the conversion for the system\n",
    "converter_length = get_orbital_elements_from_binary(final_system[0:2], G = constants.G)[2].in_(units.AU)\n",
    "final_converter=nbody_system.nbody_to_si(final_system.mass.sum(), \n",
    "                                   converter_length)"
   ]
  },
  {
   "cell_type": "code",
   "execution_count": null,
   "metadata": {},
   "outputs": [],
   "source": [
    "#Here we evolve the basic system, without grandtack or Milky way potential\n",
    "\n",
    "def vanilla_evolver(particle_system, converter, N_objects, end_time=4*10**3, time_step=0.1):\n",
    "    \n",
    "    if N_objects > 2*10**3:\n",
    "        gravity_code = Mercury(final_converter)\n",
    "    else:\n",
    "        gravity_code = ph4(final_converter)\n",
    "    \n",
    "    stopping_condition = gravity_code.stopping_conditions.collision_detection\n",
    "    stopping_condition.enable()\n",
    "    \n",
    "    gravity_code.particles.add_particles(particle_system)\n",
    "    ch_g2l = gravity_code.particles.new_channel_to(particle_system)\n",
    "    \n",
    "    times = np.arange(0., end_time, time_step) | units.yr\n",
    "    \n",
    "    for i in tqdm(range(len(times))):\n",
    "        gravity_code.evolve_model(times[i])\n",
    "        while stopping_condition.is_set():\n",
    "            resolve_collision(stopping_condition, gravity_code, particle_system, times[i])\n",
    "            ch_g2l.copy()\n",
    "            gravity_code.evolve_model(times[i])\n",
    "            \n",
    "        ch_g2l.copy()\n",
    "        if i%(100) == 0:\n",
    "            write_set_to_file(particle_system, directory + 'Vanilla_run1_time=' +str(np.log10(times[i].value_in(units.yr)))[0:5] +'.hdf5', format='hdf5', overwrite_file = True)\n",
    "        \n",
    "    gravity_code.stop()\n",
    "    write_set_to_file(particle_system, 'Vanilla_run1_final.hdf5', format='hdf5', overwrite_file = True)\n",
    "    return particle_system\n",
    "    \n",
    "    \n",
    "vanilla_evolved_system = vanilla_evolver(final_system, final_converter, N_objects, end_time= 10**8, time_step= 10**5)\n"
   ]
  },
  {
   "cell_type": "code",
   "execution_count": null,
   "metadata": {},
   "outputs": [],
   "source": []
  }
 ],
 "metadata": {
  "kernelspec": {
   "display_name": "Python 3",
   "language": "python",
   "name": "python3"
  },
  "language_info": {
   "codemirror_mode": {
    "name": "ipython",
    "version": 3
   },
   "file_extension": ".py",
   "mimetype": "text/x-python",
   "name": "python",
   "nbconvert_exporter": "python",
   "pygments_lexer": "ipython3",
   "version": "3.8.2"
  }
 },
 "nbformat": 4,
 "nbformat_minor": 2
}
