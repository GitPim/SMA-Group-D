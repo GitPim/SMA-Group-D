{
 "cells": [
  {
   "cell_type": "code",
   "execution_count": 1,
   "metadata": {},
   "outputs": [],
   "source": [
    "#Define the path to the directory where the data should be stored, as well as a unique identifier for each run\n",
    "directory = \"/data/s1968653/MWG_output/\"\n",
    "run_number = 10 "
   ]
  },
  {
   "cell_type": "code",
   "execution_count": 2,
   "metadata": {},
   "outputs": [],
   "source": [
    "#Here we import all the necessary dependencies\n",
    "import numpy as np\n",
    "\n",
    "from amuse.ext.orbital_elements import new_binary_from_orbital_elements, get_orbital_elements_from_binary\n",
    "from amuse.ext.solarsystem import new_solar_system\n",
    "from amuse.lab import units, constants, Particles, nbody_system\n",
    "from amuse.io import write_set_to_file\n",
    "from amuse.lab import Huayno\n",
    "from amuse.couple import bridge\n",
    "\n",
    "from tqdm import tqdm"
   ]
  },
  {
   "cell_type": "code",
   "execution_count": 3,
   "metadata": {},
   "outputs": [],
   "source": [
    "#Here we generate a galactic potential \n",
    "\n",
    "class MilkyWay_galaxy(object):\n",
    "    def __init__(self, \n",
    "                 Mb=1.40592e10| units.MSun,\n",
    "                 Md=8.5608e10| units.MSun,\n",
    "                 Mh=1.07068e11 | units.MSun):\n",
    "        self.Mb= Mb\n",
    "        self.Md= Md\n",
    "        self.Mh= Mh\n",
    "\n",
    "    def get_potential_at_point(self,eps,x,y,z):\n",
    "        r=(x**2+y**2+z**2)**0.5\n",
    "        R= (x**2+y**2)**0.5\n",
    "        # buldge\n",
    "        b1= 0.3873 |units.kpc\n",
    "        pot_bulge= -constants.G*self.Mb/(r**2+b1**2)**0.5 \n",
    "        # disk\n",
    "        a2= 5.31 |units.kpc\n",
    "        b2= 0.25 |units.kpc\n",
    "        pot_disk = -constants.G*self.Md/(R**2 + (a2+ (z**2+ b2**2)**0.5 )**2 )**0.5\n",
    "        #halo\n",
    "        a3= 12.0 |units.kpc\n",
    "        cut_off=100 |units.kpc\n",
    "        d1= r/a3\n",
    "        c=1+ (cut_off/a3)**1.02\n",
    "        pot_halo= -constants.G*(self.Mh/a3)*d1**1.02/(1+ d1**1.02) \\\n",
    "                  - (constants.G*self.Mh/(1.02*a3))\\\n",
    "                      * (-1.02/c +numpy.log(c) + 1.02/(1+d1**1.02) \\\n",
    "                           - numpy.log(1.0 +d1**1.02) )\n",
    "        return 2*(pot_bulge+pot_disk+ pot_halo) \n",
    "                # multiply by 2 because it is a rigid potential\n",
    "    \n",
    "    def get_gravity_at_point(self, eps, x,y,z): \n",
    "        r= (x**2+y**2+z**2)**0.5\n",
    "        R= (x**2+y**2)**0.5\n",
    "        #bulge\n",
    "        b1= 0.3873 |units.kpc\n",
    "        force_bulge= -constants.G*self.Mb/(r**2+b1**2)**1.5 \n",
    "        #disk\n",
    "        a2= 5.31 |units.kpc\n",
    "        b2= 0.25 |units.kpc\n",
    "        d= a2+ (z**2+ b2**2)**0.5\n",
    "        force_disk=-constants.G*self.Md/(R**2+ d**2 )**1.5\n",
    "        #halo\n",
    "        a3= 12.0 |units.kpc\n",
    "        d1= r/a3\n",
    "        force_halo= -constants.G*self.Mh*d1**0.02/(a3**2*(1+d1**1.02))\n",
    "       \n",
    "        ax= force_bulge*x + force_disk*x  + force_halo*x/r\n",
    "        ay= force_bulge*y + force_disk*y  + force_halo*y/r\n",
    "        az= force_bulge*z + force_disk*d*z/(z**2 + b2**2)**0.5 + force_halo*z/r \n",
    "\n",
    "        return ax,ay,az\n",
    "    \n",
    "MW_potential = MilkyWay_galaxy()"
   ]
  },
  {
   "cell_type": "code",
   "execution_count": 4,
   "metadata": {},
   "outputs": [],
   "source": [
    "#Takes a primary- and a secondary-particle and then returns the orbital parameters of their orbit. This function then returns\n",
    "#the semi major axis. \n",
    "\n",
    "def sma_determinator(primary, secondary):\n",
    "    binary = Particles(0)\n",
    "    binary.add_particle(primary)\n",
    "    binary.add_particle(secondary)\n",
    "        \n",
    "    orbital_params = get_orbital_elements_from_binary(binary, G = constants.G)\n",
    "    semi_major_axis = orbital_params[2]\n",
    "    return semi_major_axis"
   ]
  },
  {
   "cell_type": "code",
   "execution_count": 5,
   "metadata": {},
   "outputs": [],
   "source": [
    "#Function to generate orbits for comets in the Solar System.\n",
    "def comet_positions_and_velocities(N_objects, sun_location):  \n",
    "    positions = np.zeros((N_objects, 3)) | units.AU\n",
    "    velocities = np.zeros((N_objects,3)) | units.kms\n",
    "    \n",
    "    m_sun = 1 | units.MSun\n",
    "    m_comet = 0 | units.MSun #Take massless test particles\n",
    "    for i in range(N_objects):\n",
    "        # Values below correspond with random locations anywhere in the Solar System, based of relevant literature\n",
    "        a = np.random.uniform(4, 40) | units.AU  # semi-major axis\n",
    "        e = np.random.uniform(0, 0.05)  # eccentricity\n",
    "        inclination = np.random.uniform(-5, 5) | units.deg\n",
    "        true_anomaly = np.random.uniform (0, 360) | units.deg\n",
    "        arg_of_periapsis = np.random.uniform(0, 360) | units.deg\n",
    "        long_of_ascending_node = np.random.uniform(0, 360) | units.deg\n",
    "        \n",
    "        sun_and_comet = new_binary_from_orbital_elements(m_sun, m_comet, \n",
    "                                          a, e, true_anomaly, inclination, long_of_ascending_node, arg_of_periapsis, G=constants.G)\n",
    "        positions[i] = (sun_and_comet[1].x+sun_location[0]), (sun_and_comet[1].y+sun_location[1]), (sun_and_comet[1].z+sun_location[2])\n",
    "        velocities[i]= sun_and_comet[1].vx, sun_and_comet[1].vy, sun_and_comet[1].vz\n",
    "    return positions, velocities"
   ]
  },
  {
   "cell_type": "code",
   "execution_count": 6,
   "metadata": {},
   "outputs": [
    {
     "name": "stdout",
     "output_type": "stream",
     "text": [
      "|S11\n"
     ]
    }
   ],
   "source": [
    "#Function to create a post-tack system, i.e. with the giants at orbits as they are predicted to have been after the Grand Tack\n",
    "def create_post_tack_giants_system():\n",
    "    #Create the present day solar system and keep only the sun and the giants\n",
    "    present_day_solar_system = new_solar_system()\n",
    "    present_day_solar_system = present_day_solar_system[present_day_solar_system.mass > 10**-5 | units.MSun] # Takes gas giants and Sun only\n",
    "    present_day_solar_system.move_to_center()\n",
    "    \n",
    "    #Create a post_tack_giants_system by first recreating the sun.\n",
    "    post_tack_giants_system = Particles(1) \n",
    "    post_tack_giants_system[0].name = \"Sun\"\n",
    "    post_tack_giants_system[0].mass = 1.0 | units.MSun\n",
    "    post_tack_giants_system[0].radius = 1.0 | units.RSun  \n",
    "    post_tack_giants_system[0].position = (0, 0, 0) | units.AU\n",
    "    post_tack_giants_system[0].velocity = (0, 0, 0) | units.kms\n",
    "    \n",
    "    #The post tack orbital elements for the planets as below\n",
    "    a =  np.array([5.4, 7.1, 10.5, 13]) | units.AU \n",
    "    true_anomalies = np.random.uniform(0, 360, 4) | units.deg\n",
    "    long_of_ascending_node = np.random.uniform(0, 360, 4) | units.deg\n",
    "    args_of_periapsis = np.random.uniform(0, 360, 4) | units.deg\n",
    "    \n",
    "    #Create the four planets as binaries with the sun and add them to the post_tack_giants_system\n",
    "    for i in range(4):\n",
    "        orbital_elements = get_orbital_elements_from_binary(present_day_solar_system[0]+ present_day_solar_system[i+1], G=constants.G)\n",
    "        inclination = orbital_elements[5] #Make sure we have a sensable inclination for the giants\n",
    "        \n",
    "        \n",
    "        sun_and_planet = new_binary_from_orbital_elements(post_tack_giants_system.mass[0], present_day_solar_system[i+1].mass, \n",
    "                                          a[i], 0, true_anomalies[i], inclination, long_of_ascending_node[i], args_of_periapsis[i], G=constants.G)\n",
    "        \n",
    "        planet = Particles(1)\n",
    "        planet.name = present_day_solar_system[i+1].name\n",
    "        planet.mass = present_day_solar_system[i+1].mass\n",
    "        planet.radius = present_day_solar_system[i+1].radius\n",
    "        planet.position = (sun_and_planet[1].x-sun_and_planet[0].x, sun_and_planet[1].y-sun_and_planet[0].y, sun_and_planet[1].z-sun_and_planet[0].z)\n",
    "        planet.velocity = (sun_and_planet[1].vx-sun_and_planet[0].vx, sun_and_planet[1].vy-sun_and_planet[0].vy, sun_and_planet[1].vz-sun_and_planet[0].vz)\n",
    "        post_tack_giants_system.add_particle(planet) \n",
    "        \n",
    "    return post_tack_giants_system\n",
    "        \n",
    "post_tack_giants_system = create_post_tack_giants_system()\n",
    "post_tack_giants_system.move_to_center()"
   ]
  },
  {
   "cell_type": "code",
   "execution_count": 7,
   "metadata": {},
   "outputs": [],
   "source": [
    "#Define the number of comets and create their velocities and positions\n",
    "N_objects = 1*10**2\n",
    "sun_location = [post_tack_giants_system[0].x.in_(units.AU), post_tack_giants_system[0].y.in_(units.AU), post_tack_giants_system[0].z.in_(units.AU)]\n",
    "comet_positions, comet_velocities = comet_positions_and_velocities(N_objects, sun_location)"
   ]
  },
  {
   "cell_type": "code",
   "execution_count": 8,
   "metadata": {},
   "outputs": [
    {
     "name": "stderr",
     "output_type": "stream",
     "text": [
      "100%|██████████| 100/100 [00:00<00:00, 759.24it/s]\n"
     ]
    }
   ],
   "source": [
    "# Here we add the comets, where orbit parameters were chosen from a uniform distribution\n",
    "def add_comet_objects(post_tack_giants_system, N_objects, comet_positions, comet_velocities):\n",
    "    for i in tqdm(range(N_objects)):\n",
    "        comet = Particles(1)\n",
    "        comet.name = \"COMET_\" + str(i)\n",
    "        comet.mass = 0.0 | units.MSun #Take massless test particles\n",
    "        comet.radius = 0.0 | units.RSun \n",
    "        comet.position = (comet_positions[i, 0], comet_positions[i, 1], comet_positions[i, 2])\n",
    "        comet.velocity = (comet_velocities[i, 0], comet_velocities[i, 1], comet_velocities[i, 2])\n",
    "        post_tack_giants_system.add_particle(comet)\n",
    "    \n",
    "    z_comp = np.arctan(100/8500.) #Determining the z-component of the sun's trajectory around the galactic center\n",
    "    \n",
    "    for i in range(len(post_tack_giants_system)): #adding the sun's trajectory around the galactic center\n",
    "        post_tack_giants_system[i].position += (1, 0, 0) * (8.5 | units.kpc) \n",
    "        post_tack_giants_system[i].velocity += (0,np.sqrt(1-z_comp**2),z_comp) * (220 | units.kms) \n",
    "    \n",
    "    \n",
    "    return post_tack_giants_system\n",
    "\n",
    "complete_post_tack_system = add_comet_objects(post_tack_giants_system, N_objects, comet_positions, comet_velocities)"
   ]
  },
  {
   "cell_type": "code",
   "execution_count": 9,
   "metadata": {},
   "outputs": [],
   "source": [
    "#Here we create the converter\n",
    "converter_length = get_orbital_elements_from_binary(complete_post_tack_system[0:2], G = constants.G)[2].in_(units.AU) # Typical distance used for calculation (=distance from Sun to Jupiter)\n",
    "converter=nbody_system.nbody_to_si(complete_post_tack_system.mass.sum(), \n",
    "                                   converter_length)"
   ]
  },
  {
   "cell_type": "code",
   "execution_count": 10,
   "metadata": {},
   "outputs": [
    {
     "name": "stderr",
     "output_type": "stream",
     "text": [
      "  0%|          | 0/80000 [00:00<?, ?it/s]"
     ]
    },
    {
     "name": "stdout",
     "output_type": "stream",
     "text": [
      "|S11\n",
      "Here JUPITER was redefined\n"
     ]
    },
    {
     "name": "stderr",
     "output_type": "stream",
     "text": [
      "<ipython-input-10-2e5552a57ab6>:66: RuntimeWarning: divide by zero encountered in log10\n",
      "  write_set_to_file(gravity_code.particles, directory + 'MWG_run' + str(run_number) +'_time=' + str(np.log10(times[i].value_in(units.yr)))[0:5] + '.hdf5', format='hdf5', overwrite_file = True)\n",
      "  0%|          | 1/80000 [00:00<5:35:32,  3.97it/s]"
     ]
    },
    {
     "name": "stdout",
     "output_type": "stream",
     "text": [
      "Here JUPITER was redefined\n"
     ]
    },
    {
     "name": "stderr",
     "output_type": "stream",
     "text": [
      "  0%|          | 3/80000 [00:06<35:23:13,  1.59s/it]"
     ]
    },
    {
     "name": "stdout",
     "output_type": "stream",
     "text": [
      "Here JUPITER was redefined\n",
      "Here JUPITER was redefined\n"
     ]
    },
    {
     "name": "stderr",
     "output_type": "stream",
     "text": [
      "  0%|          | 5/80000 [00:11<48:27:26,  2.18s/it]"
     ]
    },
    {
     "name": "stdout",
     "output_type": "stream",
     "text": [
      "Here JUPITER was redefined\n"
     ]
    },
    {
     "name": "stderr",
     "output_type": "stream",
     "text": [
      "  0%|          | 6/80000 [00:13<50:16:00,  2.26s/it]"
     ]
    },
    {
     "name": "stdout",
     "output_type": "stream",
     "text": [
      "Here JUPITER was redefined\n"
     ]
    },
    {
     "name": "stderr",
     "output_type": "stream",
     "text": [
      "  0%|          | 7/80000 [00:16<52:37:52,  2.37s/it]"
     ]
    },
    {
     "name": "stdout",
     "output_type": "stream",
     "text": [
      "Here JUPITER was redefined\n",
      "Here JUPITER was redefined\n"
     ]
    },
    {
     "name": "stderr",
     "output_type": "stream",
     "text": [
      "  0%|          | 9/80000 [00:21<53:31:15,  2.41s/it]"
     ]
    },
    {
     "name": "stdout",
     "output_type": "stream",
     "text": [
      "Here JUPITER was redefined\n"
     ]
    },
    {
     "name": "stderr",
     "output_type": "stream",
     "text": [
      "  0%|          | 10/80000 [00:23<53:21:11,  2.40s/it]"
     ]
    },
    {
     "name": "stdout",
     "output_type": "stream",
     "text": [
      "Here JUPITER was redefined\n"
     ]
    },
    {
     "name": "stderr",
     "output_type": "stream",
     "text": [
      "  0%|          | 11/80000 [00:26<53:54:54,  2.43s/it]"
     ]
    },
    {
     "name": "stdout",
     "output_type": "stream",
     "text": [
      "Here JUPITER was redefined\n",
      "Here JUPITER was redefined\n"
     ]
    },
    {
     "name": "stderr",
     "output_type": "stream",
     "text": [
      "  0%|          | 12/80000 [00:28<53:47:28,  2.42s/it]"
     ]
    },
    {
     "name": "stdout",
     "output_type": "stream",
     "text": [
      "Here JUPITER was redefined\n",
      "Here NEPTUNE was redefined\n"
     ]
    },
    {
     "name": "stderr",
     "output_type": "stream",
     "text": [
      "  0%|          | 13/80000 [00:31<55:00:55,  2.48s/it]"
     ]
    },
    {
     "name": "stdout",
     "output_type": "stream",
     "text": [
      "Here JUPITER was redefined\n"
     ]
    },
    {
     "name": "stderr",
     "output_type": "stream",
     "text": [
      "  0%|          | 14/80000 [00:33<53:45:25,  2.42s/it]"
     ]
    },
    {
     "name": "stdout",
     "output_type": "stream",
     "text": [
      "Here JUPITER was redefined\n"
     ]
    },
    {
     "name": "stderr",
     "output_type": "stream",
     "text": [
      "  0%|          | 15/80000 [00:36<54:27:42,  2.45s/it]"
     ]
    },
    {
     "name": "stdout",
     "output_type": "stream",
     "text": [
      "Here JUPITER was redefined\n"
     ]
    },
    {
     "name": "stderr",
     "output_type": "stream",
     "text": [
      "  0%|          | 16/80000 [00:38<54:11:14,  2.44s/it]"
     ]
    },
    {
     "name": "stdout",
     "output_type": "stream",
     "text": [
      "Here JUPITER was redefined\n"
     ]
    },
    {
     "name": "stderr",
     "output_type": "stream",
     "text": [
      "  0%|          | 17/80000 [00:41<56:40:37,  2.55s/it]"
     ]
    },
    {
     "name": "stdout",
     "output_type": "stream",
     "text": [
      "Here JUPITER was redefined\n"
     ]
    },
    {
     "name": "stderr",
     "output_type": "stream",
     "text": [
      "  0%|          | 18/80000 [00:44<58:46:33,  2.65s/it]"
     ]
    },
    {
     "name": "stdout",
     "output_type": "stream",
     "text": [
      "Here JUPITER was redefined\n"
     ]
    },
    {
     "name": "stderr",
     "output_type": "stream",
     "text": [
      "  0%|          | 19/80000 [00:47<62:10:07,  2.80s/it]"
     ]
    },
    {
     "name": "stdout",
     "output_type": "stream",
     "text": [
      "Here JUPITER was redefined\n"
     ]
    },
    {
     "name": "stderr",
     "output_type": "stream",
     "text": [
      "  0%|          | 21/80000 [00:52<60:40:04,  2.73s/it]"
     ]
    },
    {
     "name": "stdout",
     "output_type": "stream",
     "text": [
      "Here JUPITER was redefined\n"
     ]
    },
    {
     "name": "stderr",
     "output_type": "stream",
     "text": [
      "  0%|          | 22/80000 [00:55<57:52:31,  2.61s/it]"
     ]
    },
    {
     "name": "stdout",
     "output_type": "stream",
     "text": [
      "Here JUPITER was redefined\n",
      "Here JUPITER was redefined\n"
     ]
    },
    {
     "name": "stderr",
     "output_type": "stream",
     "text": [
      "  0%|          | 23/80000 [00:58<56:49:05,  2.56s/it]\n"
     ]
    },
    {
     "ename": "KeyboardInterrupt",
     "evalue": "",
     "output_type": "error",
     "traceback": [
      "\u001b[0;31m---------------------------------------------------------------------------\u001b[0m",
      "\u001b[0;31mKeyboardInterrupt\u001b[0m                         Traceback (most recent call last)",
      "\u001b[0;32m<ipython-input-10-2e5552a57ab6>\u001b[0m in \u001b[0;36m<module>\u001b[0;34m\u001b[0m\n\u001b[1;32m     92\u001b[0m \u001b[0;34m\u001b[0m\u001b[0m\n\u001b[1;32m     93\u001b[0m \u001b[0;34m\u001b[0m\u001b[0m\n\u001b[0;32m---> 94\u001b[0;31m \u001b[0mMWG_evolved_system\u001b[0m \u001b[0;34m=\u001b[0m \u001b[0mMWG_evolver\u001b[0m\u001b[0;34m(\u001b[0m\u001b[0mcomplete_post_tack_system\u001b[0m\u001b[0;34m,\u001b[0m \u001b[0mconverter\u001b[0m\u001b[0;34m,\u001b[0m \u001b[0mN_objects\u001b[0m\u001b[0;34m,\u001b[0m \u001b[0mMW_potential\u001b[0m\u001b[0;34m,\u001b[0m \u001b[0mend_time\u001b[0m\u001b[0;34m=\u001b[0m \u001b[0;36m10\u001b[0m\u001b[0;34m**\u001b[0m\u001b[0;36m8\u001b[0m\u001b[0;34m,\u001b[0m \u001b[0mtime_step\u001b[0m\u001b[0;34m=\u001b[0m \u001b[0;36m1.25\u001b[0m\u001b[0;34m*\u001b[0m\u001b[0;36m10\u001b[0m\u001b[0;34m**\u001b[0m\u001b[0;36m3\u001b[0m\u001b[0;34m)\u001b[0m\u001b[0;34m\u001b[0m\u001b[0;34m\u001b[0m\u001b[0m\n\u001b[0m",
      "\u001b[0;32m<ipython-input-10-2e5552a57ab6>\u001b[0m in \u001b[0;36mMWG_evolver\u001b[0;34m(complete_post_tack_system, converter, N_objects, potential, end_time, time_step)\u001b[0m\n\u001b[1;32m     32\u001b[0m     \u001b[0;31m#Below the evolving starts\u001b[0m\u001b[0;34m\u001b[0m\u001b[0;34m\u001b[0m\u001b[0;34m\u001b[0m\u001b[0m\n\u001b[1;32m     33\u001b[0m     \u001b[0;32mfor\u001b[0m \u001b[0mi\u001b[0m \u001b[0;32min\u001b[0m \u001b[0mtqdm\u001b[0m\u001b[0;34m(\u001b[0m\u001b[0mrange\u001b[0m\u001b[0;34m(\u001b[0m\u001b[0mlen\u001b[0m\u001b[0;34m(\u001b[0m\u001b[0mtimes\u001b[0m\u001b[0;34m)\u001b[0m\u001b[0;34m)\u001b[0m\u001b[0;34m)\u001b[0m\u001b[0;34m:\u001b[0m\u001b[0;34m\u001b[0m\u001b[0;34m\u001b[0m\u001b[0m\n\u001b[0;32m---> 34\u001b[0;31m         \u001b[0mgravity_bridge\u001b[0m\u001b[0;34m.\u001b[0m\u001b[0mevolve_model\u001b[0m\u001b[0;34m(\u001b[0m\u001b[0mtimes\u001b[0m\u001b[0;34m[\u001b[0m\u001b[0mi\u001b[0m\u001b[0;34m]\u001b[0m\u001b[0;34m)\u001b[0m\u001b[0;34m\u001b[0m\u001b[0;34m\u001b[0m\u001b[0m\n\u001b[0m\u001b[1;32m     35\u001b[0m         \u001b[0mchannel\u001b[0m\u001b[0;34m.\u001b[0m\u001b[0mcopy\u001b[0m\u001b[0;34m(\u001b[0m\u001b[0;34m)\u001b[0m\u001b[0;34m\u001b[0m\u001b[0;34m\u001b[0m\u001b[0m\n\u001b[1;32m     36\u001b[0m \u001b[0;34m\u001b[0m\u001b[0m\n",
      "\u001b[0;32m~/Amuse-env/lib/python3.8/site-packages/amuse/couple/bridge.py\u001b[0m in \u001b[0;36mevolve_model\u001b[0;34m(self, tend, timestep)\u001b[0m\n\u001b[1;32m    554\u001b[0m \u001b[0;34m\u001b[0m\u001b[0m\n\u001b[1;32m    555\u001b[0m         \u001b[0;32mif\u001b[0m \u001b[0mself\u001b[0m\u001b[0;34m.\u001b[0m\u001b[0mmethod\u001b[0m \u001b[0;32mis\u001b[0m \u001b[0;32mNone\u001b[0m\u001b[0;34m:\u001b[0m\u001b[0;34m\u001b[0m\u001b[0;34m\u001b[0m\u001b[0m\n\u001b[0;32m--> 556\u001b[0;31m             \u001b[0;32mreturn\u001b[0m \u001b[0mself\u001b[0m\u001b[0;34m.\u001b[0m\u001b[0mevolve_joined_leapfrog\u001b[0m\u001b[0;34m(\u001b[0m\u001b[0mtend\u001b[0m\u001b[0;34m,\u001b[0m\u001b[0mtimestep\u001b[0m\u001b[0;34m)\u001b[0m\u001b[0;34m\u001b[0m\u001b[0;34m\u001b[0m\u001b[0m\n\u001b[0m\u001b[1;32m    557\u001b[0m         \u001b[0;32melse\u001b[0m\u001b[0;34m:\u001b[0m\u001b[0;34m\u001b[0m\u001b[0;34m\u001b[0m\u001b[0m\n\u001b[1;32m    558\u001b[0m             \u001b[0;32mreturn\u001b[0m \u001b[0mself\u001b[0m\u001b[0;34m.\u001b[0m\u001b[0mevolve_simple_steps\u001b[0m\u001b[0;34m(\u001b[0m\u001b[0mtend\u001b[0m\u001b[0;34m,\u001b[0m\u001b[0mtimestep\u001b[0m\u001b[0;34m)\u001b[0m\u001b[0;34m\u001b[0m\u001b[0;34m\u001b[0m\u001b[0m\n",
      "\u001b[0;32m~/Amuse-env/lib/python3.8/site-packages/amuse/couple/bridge.py\u001b[0m in \u001b[0;36mevolve_joined_leapfrog\u001b[0;34m(self, tend, timestep)\u001b[0m\n\u001b[1;32m    574\u001b[0m                 \u001b[0mself\u001b[0m\u001b[0;34m.\u001b[0m\u001b[0mkick_codes\u001b[0m\u001b[0;34m(\u001b[0m\u001b[0mtimestep\u001b[0m\u001b[0;34m)\u001b[0m\u001b[0;34m\u001b[0m\u001b[0;34m\u001b[0m\u001b[0m\n\u001b[1;32m    575\u001b[0m \u001b[0;34m\u001b[0m\u001b[0m\n\u001b[0;32m--> 576\u001b[0;31m             \u001b[0mself\u001b[0m\u001b[0;34m.\u001b[0m\u001b[0mdrift_codes\u001b[0m\u001b[0;34m(\u001b[0m\u001b[0mself\u001b[0m\u001b[0;34m.\u001b[0m\u001b[0mtime\u001b[0m\u001b[0;34m+\u001b[0m\u001b[0mtimestep\u001b[0m\u001b[0;34m)\u001b[0m\u001b[0;34m\u001b[0m\u001b[0;34m\u001b[0m\u001b[0m\n\u001b[0m\u001b[1;32m    577\u001b[0m \u001b[0;34m\u001b[0m\u001b[0m\n\u001b[1;32m    578\u001b[0m             \u001b[0mself\u001b[0m\u001b[0;34m.\u001b[0m\u001b[0mchannels\u001b[0m\u001b[0;34m.\u001b[0m\u001b[0mcopy\u001b[0m\u001b[0;34m(\u001b[0m\u001b[0;34m)\u001b[0m\u001b[0;34m\u001b[0m\u001b[0;34m\u001b[0m\u001b[0m\n",
      "\u001b[0;32m~/Amuse-env/lib/python3.8/site-packages/amuse/couple/bridge.py\u001b[0m in \u001b[0;36mdrift_codes\u001b[0;34m(self, tend)\u001b[0m\n\u001b[1;32m    703\u001b[0m         \u001b[0;32melse\u001b[0m\u001b[0;34m:\u001b[0m\u001b[0;34m\u001b[0m\u001b[0;34m\u001b[0m\u001b[0m\n\u001b[1;32m    704\u001b[0m             \u001b[0;32mfor\u001b[0m \u001b[0mx\u001b[0m \u001b[0;32min\u001b[0m \u001b[0mthreads\u001b[0m\u001b[0;34m:\u001b[0m\u001b[0;34m\u001b[0m\u001b[0;34m\u001b[0m\u001b[0m\n\u001b[0;32m--> 705\u001b[0;31m                 \u001b[0mx\u001b[0m\u001b[0;34m.\u001b[0m\u001b[0mrun\u001b[0m\u001b[0;34m(\u001b[0m\u001b[0;34m)\u001b[0m\u001b[0;34m\u001b[0m\u001b[0;34m\u001b[0m\u001b[0m\n\u001b[0m\u001b[1;32m    706\u001b[0m \u001b[0;34m\u001b[0m\u001b[0m\n\u001b[1;32m    707\u001b[0m     \u001b[0;32mdef\u001b[0m \u001b[0mkick_codes\u001b[0m\u001b[0;34m(\u001b[0m\u001b[0mself\u001b[0m\u001b[0;34m,\u001b[0m\u001b[0mdt\u001b[0m\u001b[0;34m)\u001b[0m\u001b[0;34m:\u001b[0m\u001b[0;34m\u001b[0m\u001b[0;34m\u001b[0m\u001b[0m\n",
      "\u001b[0;32m/usr/lib/python3.8/threading.py\u001b[0m in \u001b[0;36mrun\u001b[0;34m(self)\u001b[0m\n\u001b[1;32m    868\u001b[0m         \u001b[0;32mtry\u001b[0m\u001b[0;34m:\u001b[0m\u001b[0;34m\u001b[0m\u001b[0;34m\u001b[0m\u001b[0m\n\u001b[1;32m    869\u001b[0m             \u001b[0;32mif\u001b[0m \u001b[0mself\u001b[0m\u001b[0;34m.\u001b[0m\u001b[0m_target\u001b[0m\u001b[0;34m:\u001b[0m\u001b[0;34m\u001b[0m\u001b[0;34m\u001b[0m\u001b[0m\n\u001b[0;32m--> 870\u001b[0;31m                 \u001b[0mself\u001b[0m\u001b[0;34m.\u001b[0m\u001b[0m_target\u001b[0m\u001b[0;34m(\u001b[0m\u001b[0;34m*\u001b[0m\u001b[0mself\u001b[0m\u001b[0;34m.\u001b[0m\u001b[0m_args\u001b[0m\u001b[0;34m,\u001b[0m \u001b[0;34m**\u001b[0m\u001b[0mself\u001b[0m\u001b[0;34m.\u001b[0m\u001b[0m_kwargs\u001b[0m\u001b[0;34m)\u001b[0m\u001b[0;34m\u001b[0m\u001b[0;34m\u001b[0m\u001b[0m\n\u001b[0m\u001b[1;32m    871\u001b[0m         \u001b[0;32mfinally\u001b[0m\u001b[0;34m:\u001b[0m\u001b[0;34m\u001b[0m\u001b[0;34m\u001b[0m\u001b[0m\n\u001b[1;32m    872\u001b[0m             \u001b[0;31m# Avoid a refcycle if the thread is running a function with\u001b[0m\u001b[0;34m\u001b[0m\u001b[0;34m\u001b[0m\u001b[0;34m\u001b[0m\u001b[0m\n",
      "\u001b[0;32m~/Amuse-env/lib/python3.8/site-packages/amuse/couple/bridge.py\u001b[0m in \u001b[0;36mdrift\u001b[0;34m(self, tend)\u001b[0m\n\u001b[1;32m    427\u001b[0m             \u001b[0mprint\u001b[0m\u001b[0;34m(\u001b[0m\u001b[0mself\u001b[0m\u001b[0;34m.\u001b[0m\u001b[0mcode\u001b[0m\u001b[0;34m.\u001b[0m\u001b[0m__class__\u001b[0m\u001b[0;34m.\u001b[0m\u001b[0m__name__\u001b[0m\u001b[0;34m,\u001b[0m \u001b[0;34m\"is evolving to\"\u001b[0m\u001b[0;34m,\u001b[0m \u001b[0mtend\u001b[0m\u001b[0;34m)\u001b[0m\u001b[0;34m\u001b[0m\u001b[0;34m\u001b[0m\u001b[0m\n\u001b[1;32m    428\u001b[0m \u001b[0;34m\u001b[0m\u001b[0m\n\u001b[0;32m--> 429\u001b[0;31m         \u001b[0mself\u001b[0m\u001b[0;34m.\u001b[0m\u001b[0mcode\u001b[0m\u001b[0;34m.\u001b[0m\u001b[0mevolve_model\u001b[0m\u001b[0;34m(\u001b[0m\u001b[0mtend\u001b[0m\u001b[0;34m)\u001b[0m\u001b[0;34m\u001b[0m\u001b[0;34m\u001b[0m\u001b[0m\n\u001b[0m\u001b[1;32m    430\u001b[0m \u001b[0;34m\u001b[0m\u001b[0m\n\u001b[1;32m    431\u001b[0m \u001b[0;34m\u001b[0m\u001b[0m\n",
      "\u001b[0;32m~/Amuse-env/lib/python3.8/site-packages/amuse/support/methods.py\u001b[0m in \u001b[0;36m__call__\u001b[0;34m(self, *list_arguments, **keyword_arguments)\u001b[0m\n\u001b[1;32m    166\u001b[0m         \u001b[0mobject\u001b[0m \u001b[0;34m=\u001b[0m \u001b[0mself\u001b[0m\u001b[0;34m.\u001b[0m\u001b[0mprecall\u001b[0m\u001b[0;34m(\u001b[0m\u001b[0;34m)\u001b[0m\u001b[0;34m\u001b[0m\u001b[0;34m\u001b[0m\u001b[0m\n\u001b[1;32m    167\u001b[0m         \u001b[0mlist_arguments\u001b[0m\u001b[0;34m,\u001b[0m \u001b[0mkeyword_arguments\u001b[0m \u001b[0;34m=\u001b[0m \u001b[0mself\u001b[0m\u001b[0;34m.\u001b[0m\u001b[0mconvert_arguments\u001b[0m\u001b[0;34m(\u001b[0m\u001b[0mlist_arguments\u001b[0m\u001b[0;34m,\u001b[0m \u001b[0mkeyword_arguments\u001b[0m\u001b[0;34m)\u001b[0m\u001b[0;34m\u001b[0m\u001b[0;34m\u001b[0m\u001b[0m\n\u001b[0;32m--> 168\u001b[0;31m         \u001b[0mresult\u001b[0m \u001b[0;34m=\u001b[0m \u001b[0mself\u001b[0m\u001b[0;34m.\u001b[0m\u001b[0mmethod\u001b[0m\u001b[0;34m(\u001b[0m\u001b[0;34m*\u001b[0m\u001b[0mlist_arguments\u001b[0m\u001b[0;34m,\u001b[0m \u001b[0;34m**\u001b[0m\u001b[0mkeyword_arguments\u001b[0m\u001b[0;34m)\u001b[0m\u001b[0;34m\u001b[0m\u001b[0;34m\u001b[0m\u001b[0m\n\u001b[0m\u001b[1;32m    169\u001b[0m \u001b[0;34m\u001b[0m\u001b[0m\n\u001b[1;32m    170\u001b[0m         \u001b[0mresult\u001b[0m \u001b[0;34m=\u001b[0m \u001b[0mself\u001b[0m\u001b[0;34m.\u001b[0m\u001b[0mconvert_result\u001b[0m\u001b[0;34m(\u001b[0m\u001b[0mresult\u001b[0m\u001b[0;34m)\u001b[0m\u001b[0;34m\u001b[0m\u001b[0;34m\u001b[0m\u001b[0m\n",
      "\u001b[0;32m~/Amuse-env/lib/python3.8/site-packages/amuse/support/methods.py\u001b[0m in \u001b[0;36m__call__\u001b[0;34m(self, *list_arguments, **keyword_arguments)\u001b[0m\n\u001b[1;32m    166\u001b[0m         \u001b[0mobject\u001b[0m \u001b[0;34m=\u001b[0m \u001b[0mself\u001b[0m\u001b[0;34m.\u001b[0m\u001b[0mprecall\u001b[0m\u001b[0;34m(\u001b[0m\u001b[0;34m)\u001b[0m\u001b[0;34m\u001b[0m\u001b[0;34m\u001b[0m\u001b[0m\n\u001b[1;32m    167\u001b[0m         \u001b[0mlist_arguments\u001b[0m\u001b[0;34m,\u001b[0m \u001b[0mkeyword_arguments\u001b[0m \u001b[0;34m=\u001b[0m \u001b[0mself\u001b[0m\u001b[0;34m.\u001b[0m\u001b[0mconvert_arguments\u001b[0m\u001b[0;34m(\u001b[0m\u001b[0mlist_arguments\u001b[0m\u001b[0;34m,\u001b[0m \u001b[0mkeyword_arguments\u001b[0m\u001b[0;34m)\u001b[0m\u001b[0;34m\u001b[0m\u001b[0;34m\u001b[0m\u001b[0m\n\u001b[0;32m--> 168\u001b[0;31m         \u001b[0mresult\u001b[0m \u001b[0;34m=\u001b[0m \u001b[0mself\u001b[0m\u001b[0;34m.\u001b[0m\u001b[0mmethod\u001b[0m\u001b[0;34m(\u001b[0m\u001b[0;34m*\u001b[0m\u001b[0mlist_arguments\u001b[0m\u001b[0;34m,\u001b[0m \u001b[0;34m**\u001b[0m\u001b[0mkeyword_arguments\u001b[0m\u001b[0;34m)\u001b[0m\u001b[0;34m\u001b[0m\u001b[0;34m\u001b[0m\u001b[0m\n\u001b[0m\u001b[1;32m    169\u001b[0m \u001b[0;34m\u001b[0m\u001b[0m\n\u001b[1;32m    170\u001b[0m         \u001b[0mresult\u001b[0m \u001b[0;34m=\u001b[0m \u001b[0mself\u001b[0m\u001b[0;34m.\u001b[0m\u001b[0mconvert_result\u001b[0m\u001b[0;34m(\u001b[0m\u001b[0mresult\u001b[0m\u001b[0;34m)\u001b[0m\u001b[0;34m\u001b[0m\u001b[0;34m\u001b[0m\u001b[0m\n",
      "\u001b[0;32m~/Amuse-env/lib/python3.8/site-packages/amuse/support/methods.py\u001b[0m in \u001b[0;36m__call__\u001b[0;34m(self, *list_arguments, **keyword_arguments)\u001b[0m\n\u001b[1;32m    166\u001b[0m         \u001b[0mobject\u001b[0m \u001b[0;34m=\u001b[0m \u001b[0mself\u001b[0m\u001b[0;34m.\u001b[0m\u001b[0mprecall\u001b[0m\u001b[0;34m(\u001b[0m\u001b[0;34m)\u001b[0m\u001b[0;34m\u001b[0m\u001b[0;34m\u001b[0m\u001b[0m\n\u001b[1;32m    167\u001b[0m         \u001b[0mlist_arguments\u001b[0m\u001b[0;34m,\u001b[0m \u001b[0mkeyword_arguments\u001b[0m \u001b[0;34m=\u001b[0m \u001b[0mself\u001b[0m\u001b[0;34m.\u001b[0m\u001b[0mconvert_arguments\u001b[0m\u001b[0;34m(\u001b[0m\u001b[0mlist_arguments\u001b[0m\u001b[0;34m,\u001b[0m \u001b[0mkeyword_arguments\u001b[0m\u001b[0;34m)\u001b[0m\u001b[0;34m\u001b[0m\u001b[0;34m\u001b[0m\u001b[0m\n\u001b[0;32m--> 168\u001b[0;31m         \u001b[0mresult\u001b[0m \u001b[0;34m=\u001b[0m \u001b[0mself\u001b[0m\u001b[0;34m.\u001b[0m\u001b[0mmethod\u001b[0m\u001b[0;34m(\u001b[0m\u001b[0;34m*\u001b[0m\u001b[0mlist_arguments\u001b[0m\u001b[0;34m,\u001b[0m \u001b[0;34m**\u001b[0m\u001b[0mkeyword_arguments\u001b[0m\u001b[0;34m)\u001b[0m\u001b[0;34m\u001b[0m\u001b[0;34m\u001b[0m\u001b[0m\n\u001b[0m\u001b[1;32m    169\u001b[0m \u001b[0;34m\u001b[0m\u001b[0m\n\u001b[1;32m    170\u001b[0m         \u001b[0mresult\u001b[0m \u001b[0;34m=\u001b[0m \u001b[0mself\u001b[0m\u001b[0;34m.\u001b[0m\u001b[0mconvert_result\u001b[0m\u001b[0;34m(\u001b[0m\u001b[0mresult\u001b[0m\u001b[0;34m)\u001b[0m\u001b[0;34m\u001b[0m\u001b[0;34m\u001b[0m\u001b[0m\n",
      "\u001b[0;32m~/Amuse-env/lib/python3.8/site-packages/amuse/support/methods.py\u001b[0m in \u001b[0;36m__call__\u001b[0;34m(self, *list_arguments, **keyword_arguments)\u001b[0m\n\u001b[1;32m    265\u001b[0m \u001b[0;34m\u001b[0m\u001b[0m\n\u001b[1;32m    266\u001b[0m     \u001b[0;32mdef\u001b[0m \u001b[0m__call__\u001b[0m\u001b[0;34m(\u001b[0m\u001b[0mself\u001b[0m\u001b[0;34m,\u001b[0m \u001b[0;34m*\u001b[0m\u001b[0mlist_arguments\u001b[0m\u001b[0;34m,\u001b[0m \u001b[0;34m**\u001b[0m\u001b[0mkeyword_arguments\u001b[0m\u001b[0;34m)\u001b[0m\u001b[0;34m:\u001b[0m\u001b[0;34m\u001b[0m\u001b[0;34m\u001b[0m\u001b[0m\n\u001b[0;32m--> 267\u001b[0;31m         \u001b[0;32mreturn\u001b[0m \u001b[0mself\u001b[0m\u001b[0;34m.\u001b[0m\u001b[0mmethod\u001b[0m\u001b[0;34m(\u001b[0m\u001b[0;34m*\u001b[0m\u001b[0mlist_arguments\u001b[0m\u001b[0;34m,\u001b[0m \u001b[0;34m**\u001b[0m\u001b[0mkeyword_arguments\u001b[0m\u001b[0;34m)\u001b[0m\u001b[0;34m\u001b[0m\u001b[0;34m\u001b[0m\u001b[0m\n\u001b[0m\u001b[1;32m    268\u001b[0m \u001b[0;34m\u001b[0m\u001b[0m\n\u001b[1;32m    269\u001b[0m     \u001b[0;32mdef\u001b[0m \u001b[0masynchronous\u001b[0m\u001b[0;34m(\u001b[0m\u001b[0mself\u001b[0m\u001b[0;34m,\u001b[0m \u001b[0;34m*\u001b[0m\u001b[0mlist_arguments\u001b[0m\u001b[0;34m,\u001b[0m \u001b[0;34m**\u001b[0m\u001b[0mkeyword_arguments\u001b[0m\u001b[0;34m)\u001b[0m\u001b[0;34m:\u001b[0m\u001b[0;34m\u001b[0m\u001b[0;34m\u001b[0m\u001b[0m\n",
      "\u001b[0;32m~/Amuse-env/lib/python3.8/site-packages/amuse/rfi/core.py\u001b[0m in \u001b[0;36m__call__\u001b[0;34m(self, *arguments_list, **keyword_arguments)\u001b[0m\n\u001b[1;32m    118\u001b[0m             \u001b[0mself\u001b[0m\u001b[0;34m.\u001b[0m\u001b[0minterface\u001b[0m\u001b[0;34m.\u001b[0m\u001b[0mchannel\u001b[0m\u001b[0;34m.\u001b[0m\u001b[0msend_message\u001b[0m\u001b[0;34m(\u001b[0m\u001b[0mcall_id\u001b[0m\u001b[0;34m,\u001b[0m \u001b[0mself\u001b[0m\u001b[0;34m.\u001b[0m\u001b[0mspecification\u001b[0m\u001b[0;34m.\u001b[0m\u001b[0mid\u001b[0m\u001b[0;34m,\u001b[0m \u001b[0mdtype_to_arguments\u001b[0m \u001b[0;34m=\u001b[0m \u001b[0mdtype_to_values\u001b[0m\u001b[0;34m)\u001b[0m\u001b[0;34m\u001b[0m\u001b[0;34m\u001b[0m\u001b[0m\n\u001b[1;32m    119\u001b[0m \u001b[0;34m\u001b[0m\u001b[0m\n\u001b[0;32m--> 120\u001b[0;31m             \u001b[0mdtype_to_result\u001b[0m \u001b[0;34m=\u001b[0m \u001b[0mself\u001b[0m\u001b[0;34m.\u001b[0m\u001b[0minterface\u001b[0m\u001b[0;34m.\u001b[0m\u001b[0mchannel\u001b[0m\u001b[0;34m.\u001b[0m\u001b[0mrecv_message\u001b[0m\u001b[0;34m(\u001b[0m\u001b[0mcall_id\u001b[0m\u001b[0;34m,\u001b[0m \u001b[0mself\u001b[0m\u001b[0;34m.\u001b[0m\u001b[0mspecification\u001b[0m\u001b[0;34m.\u001b[0m\u001b[0mid\u001b[0m\u001b[0;34m,\u001b[0m \u001b[0mhandle_as_array\u001b[0m\u001b[0;34m)\u001b[0m\u001b[0;34m\u001b[0m\u001b[0;34m\u001b[0m\u001b[0m\n\u001b[0m\u001b[1;32m    121\u001b[0m         \u001b[0;32mexcept\u001b[0m \u001b[0mException\u001b[0m \u001b[0;32mas\u001b[0m \u001b[0mex\u001b[0m\u001b[0;34m:\u001b[0m\u001b[0;34m\u001b[0m\u001b[0;34m\u001b[0m\u001b[0m\n\u001b[1;32m    122\u001b[0m             \u001b[0mCODE_LOG\u001b[0m\u001b[0;34m.\u001b[0m\u001b[0minfo\u001b[0m\u001b[0;34m(\u001b[0m\u001b[0;34m\"Exception when calling function '{0}', of code '{1}', exception was '{2}'\"\u001b[0m\u001b[0;34m.\u001b[0m\u001b[0mformat\u001b[0m\u001b[0;34m(\u001b[0m\u001b[0mself\u001b[0m\u001b[0;34m.\u001b[0m\u001b[0mspecification\u001b[0m\u001b[0;34m.\u001b[0m\u001b[0mname\u001b[0m\u001b[0;34m,\u001b[0m \u001b[0mtype\u001b[0m\u001b[0;34m(\u001b[0m\u001b[0mself\u001b[0m\u001b[0;34m.\u001b[0m\u001b[0minterface\u001b[0m\u001b[0;34m)\u001b[0m\u001b[0;34m.\u001b[0m\u001b[0m__name__\u001b[0m\u001b[0;34m,\u001b[0m \u001b[0mex\u001b[0m\u001b[0;34m)\u001b[0m\u001b[0;34m)\u001b[0m\u001b[0;34m\u001b[0m\u001b[0;34m\u001b[0m\u001b[0m\n",
      "\u001b[0;32m~/Amuse-env/lib/python3.8/site-packages/amuse/rfi/channel.py\u001b[0m in \u001b[0;36mrecv_message\u001b[0;34m(self, call_id, function_id, handle_as_array, has_units)\u001b[0m\n\u001b[1;32m   1144\u001b[0m         )\n\u001b[1;32m   1145\u001b[0m         \u001b[0;32mtry\u001b[0m\u001b[0;34m:\u001b[0m\u001b[0;34m\u001b[0m\u001b[0;34m\u001b[0m\u001b[0m\n\u001b[0;32m-> 1146\u001b[0;31m             \u001b[0mmessage\u001b[0m\u001b[0;34m.\u001b[0m\u001b[0mreceive\u001b[0m\u001b[0;34m(\u001b[0m\u001b[0mself\u001b[0m\u001b[0;34m.\u001b[0m\u001b[0mintercomm\u001b[0m\u001b[0;34m)\u001b[0m\u001b[0;34m\u001b[0m\u001b[0;34m\u001b[0m\u001b[0m\n\u001b[0m\u001b[1;32m   1147\u001b[0m         \u001b[0;32mexcept\u001b[0m \u001b[0mMPI\u001b[0m\u001b[0;34m.\u001b[0m\u001b[0mException\u001b[0m \u001b[0;32mas\u001b[0m \u001b[0mex\u001b[0m\u001b[0;34m:\u001b[0m\u001b[0;34m\u001b[0m\u001b[0;34m\u001b[0m\u001b[0m\n\u001b[1;32m   1148\u001b[0m             \u001b[0mself\u001b[0m\u001b[0;34m.\u001b[0m\u001b[0m_is_inuse\u001b[0m \u001b[0;34m=\u001b[0m \u001b[0;32mFalse\u001b[0m\u001b[0;34m\u001b[0m\u001b[0;34m\u001b[0m\u001b[0m\n",
      "\u001b[0;32m~/Amuse-env/lib/python3.8/site-packages/amuse/rfi/channel.py\u001b[0m in \u001b[0;36mreceive\u001b[0;34m(self, comm)\u001b[0m\n\u001b[1;32m    117\u001b[0m \u001b[0;34m\u001b[0m\u001b[0m\n\u001b[1;32m    118\u001b[0m     \u001b[0;32mdef\u001b[0m \u001b[0mreceive\u001b[0m\u001b[0;34m(\u001b[0m\u001b[0mself\u001b[0m\u001b[0;34m,\u001b[0m \u001b[0mcomm\u001b[0m\u001b[0;34m)\u001b[0m\u001b[0;34m:\u001b[0m\u001b[0;34m\u001b[0m\u001b[0;34m\u001b[0m\u001b[0m\n\u001b[0;32m--> 119\u001b[0;31m         \u001b[0mheader\u001b[0m \u001b[0;34m=\u001b[0m \u001b[0mself\u001b[0m\u001b[0;34m.\u001b[0m\u001b[0mreceive_header\u001b[0m\u001b[0;34m(\u001b[0m\u001b[0mcomm\u001b[0m\u001b[0;34m)\u001b[0m\u001b[0;34m\u001b[0m\u001b[0;34m\u001b[0m\u001b[0m\n\u001b[0m\u001b[1;32m    120\u001b[0m         \u001b[0mself\u001b[0m\u001b[0;34m.\u001b[0m\u001b[0mreceive_content\u001b[0m\u001b[0;34m(\u001b[0m\u001b[0mcomm\u001b[0m\u001b[0;34m,\u001b[0m \u001b[0mheader\u001b[0m\u001b[0;34m)\u001b[0m\u001b[0;34m\u001b[0m\u001b[0;34m\u001b[0m\u001b[0m\n\u001b[1;32m    121\u001b[0m \u001b[0;34m\u001b[0m\u001b[0m\n",
      "\u001b[0;32m~/Amuse-env/lib/python3.8/site-packages/amuse/rfi/channel.py\u001b[0m in \u001b[0;36mreceive_header\u001b[0;34m(self, comm)\u001b[0m\n\u001b[1;32m    350\u001b[0m             \u001b[0mrequest\u001b[0m\u001b[0;34m.\u001b[0m\u001b[0mWait\u001b[0m\u001b[0;34m(\u001b[0m\u001b[0;34m)\u001b[0m\u001b[0;34m\u001b[0m\u001b[0;34m\u001b[0m\u001b[0m\n\u001b[1;32m    351\u001b[0m         \u001b[0;32melse\u001b[0m\u001b[0;34m:\u001b[0m\u001b[0;34m\u001b[0m\u001b[0;34m\u001b[0m\u001b[0m\n\u001b[0;32m--> 352\u001b[0;31m             \u001b[0mrequest\u001b[0m\u001b[0;34m.\u001b[0m\u001b[0mWait\u001b[0m\u001b[0;34m(\u001b[0m\u001b[0;34m)\u001b[0m\u001b[0;34m\u001b[0m\u001b[0;34m\u001b[0m\u001b[0m\n\u001b[0m\u001b[1;32m    353\u001b[0m         \u001b[0;32mreturn\u001b[0m \u001b[0mheader\u001b[0m\u001b[0;34m\u001b[0m\u001b[0;34m\u001b[0m\u001b[0m\n\u001b[1;32m    354\u001b[0m \u001b[0;34m\u001b[0m\u001b[0m\n",
      "\u001b[0;31mKeyboardInterrupt\u001b[0m: "
     ]
    }
   ],
   "source": [
    "#Here we evolve the complete_post_tack_system, without a grandtack happening or a Milky way potential being present\n",
    "\n",
    "def MWG_evolver(complete_post_tack_system, converter, N_objects, potential, end_time, time_step):\n",
    "    #Initialise the gravity code and add the particles to it\n",
    "    gravity_code = Huayno(converter)\n",
    "    gravity_code.particles.add_particles(complete_post_tack_system)\n",
    "    channel = gravity_code.particles.new_channel_to(complete_post_tack_system)\n",
    "    \n",
    "    gravity_bridge = 0\n",
    "    gravity_bridge = bridge.Bridge(use_threading=False)\n",
    "    gravity_bridge.add_system(gravity_code, (potential,))\n",
    "    gravity_bridge.timestep = 100 |units.yr\n",
    "    \n",
    "    times = np.arange(0., end_time, time_step) | units.yr #All time steps to which we want to evolve the model\n",
    "    \n",
    "    #---------------------------------------------------------------------------------------------------------\n",
    "    #Here we define the planetary orbital parameters that should be returned to if the planets start moving too much \n",
    "    current_sma = np.array([0, 0, 0, 0]) | units.AU\n",
    "    correct_sma =  np.array([5.4, 7.1, 10.5, 13]) | units.AU\n",
    "    inclinations =  np.array([0, 0, 0, 0]) | units.deg\n",
    "    \n",
    "    \n",
    "    system = new_solar_system()\n",
    "    system = system[system.mass > 10**-5 | units.MSun] # Takes gas giants and Sun only\n",
    "    system.move_to_center()\n",
    "    for k in range(4):\n",
    "        orbital_elements = get_orbital_elements_from_binary(system[0]+ system[k+1], G=constants.G)\n",
    "        inclinations[k] =  orbital_elements[5]\n",
    "    #------------------------------------------------------------------------------------------------------------\n",
    "    dead_comets = [] #Here all 'dead' comets are stored\n",
    "    \n",
    "    #Below the evolving starts\n",
    "    for i in tqdm(range(len(times))):\n",
    "        gravity_bridge.evolve_model(times[i])\n",
    "        channel.copy()\n",
    "        \n",
    "        #---------------------------------------------------------------------------------------------------------------\n",
    "        #Here we check if the planetary orbits are still 'correct' and act for three degrees of incorrectness.\n",
    "        for j in range(4):\n",
    "            current_sma[j] = sma_determinator(gravity_code.particles[0], gravity_code.particles[j+1])\n",
    "        \n",
    "        for l in range(4):\n",
    "            if abs(current_sma[l]/correct_sma[l]) > 1.25 or abs(current_sma[l]/correct_sma[l]) < 0.75: #The orbits are too much perturbed, so we end the simulation\n",
    "                return\n",
    "        \n",
    "            elif abs(current_sma[l]/correct_sma[l]) > 1.05 or abs(current_sma[l]/correct_sma[l]) < 0.95: #The orbits are slightly perturbed, so we redefinie them\n",
    "                print(\"Here\", complete_post_tack_system[l+1].name, \"was redefined\")\n",
    "                binary = Particles(0)\n",
    "                binary.add_particle(gravity_code.particles[0])\n",
    "                binary.add_particle(gravity_code.particles[l+1])\n",
    "\n",
    "                orbital_params = get_orbital_elements_from_binary(binary, G = constants.G)\n",
    "                true_anomaly, ascending_node, pericenter = orbital_params[4].in_(units.deg), orbital_params[6].in_(units.deg), orbital_params[7].in_(units.deg)\n",
    "\n",
    "                sun_and_plan = new_binary_from_orbital_elements(1 | units.MSun, orbital_params[1], #We keep the current angles, but change the a, e and i back\n",
    "                                                      correct_sma[l], 0, true_anomaly, inclinations[l], ascending_node, pericenter, G=constants.G)\n",
    "                \n",
    "                gravity_code.particles[l+1].position = (sun_and_plan[1].x+gravity_code.particles[0].x, sun_and_plan[1].y+gravity_code.particles[0].y, sun_and_plan[1].z+gravity_code.particles[0].z)\n",
    "                gravity_code.particles[l+1].velocity = (sun_and_plan[1].vx+gravity_code.particles[0].vx, sun_and_plan[1].vy+gravity_code.particles[0].vy, sun_and_plan[1].vz+gravity_code.particles[0].vz)\n",
    "            else: #The orbits do not need changing\n",
    "                pass\n",
    "        #----------------------------------------------------------------------------------------------------------------------\n",
    "        #Once we checked for the orbital correctness, we can save data \n",
    "        \n",
    "        if i%4000 == 0:\n",
    "            write_set_to_file(gravity_code.particles, directory + 'MWG_run' + str(run_number) +'_time=' + str(np.log10(times[i].value_in(units.yr)))[0:5] + '.hdf5', format='hdf5', overwrite_file = True)\n",
    "            \n",
    "        #--------------------------------------------------------------------------------------------------------------------\n",
    "        #Here we look for 'escaped' and 'out of bounds' comets\n",
    "        out_of_bounds, escaped_comets = [], []\n",
    "        for i in range(len(gravity_code.particles)):\n",
    "            if (gravity_code.particles[i].position-gravity_code.particles[0].position).length() > 500 | units.AU:\n",
    "                escaped_comets.append(gravity_code.particles[i])\n",
    "                if (gravity_code.particles[i].position-gravity_code.particles[0].position).length() > 250000 | units.AU:\n",
    "                    out_of_bounds.append(gravity_code.particles[i])\n",
    "                    dead_comets.append(gravity_code.particles[i])\n",
    "        for particle in out_of_bounds: #Out of bounds comets are removed completely\n",
    "            complete_post_tack_system.remove_particle(particle)\n",
    "            complete_post_tack_system.synchronize_to(gravity_code.particles)\n",
    "            \n",
    "        \n",
    "        if i%100 == 0:\n",
    "            print(\"The amount of currently escaped comets is \", len(escaped_comets))\n",
    "            print(\"The amount of dead comets is \", len(dead_comets))\n",
    "            for m in range(4):\n",
    "                print(complete_post_tack_system[m+1].name, \" is at \", (gravity_code.particles[m+1].position-gravity_code.particles[0].position).length().in_(units.AU))\n",
    "    \n",
    "        \n",
    "    gravity_code.stop()\n",
    "    write_set_to_file(gravity_code.orbiters, directory + 'MWG_run' + str(run_number) +'_final.hdf5', format='hdf5', overwrite_file = True)\n",
    "    return complete_post_tack\n",
    "    \n",
    "    \n",
    "MWG_evolved_system = MWG_evolver(complete_post_tack_system, converter, N_objects, MW_potential, end_time= 10**8, time_step= 1.25*10**3)"
   ]
  },
  {
   "cell_type": "code",
   "execution_count": null,
   "metadata": {},
   "outputs": [],
   "source": []
  }
 ],
 "metadata": {
  "kernelspec": {
   "display_name": "Python 3",
   "language": "python",
   "name": "python3"
  },
  "language_info": {
   "codemirror_mode": {
    "name": "ipython",
    "version": 3
   },
   "file_extension": ".py",
   "mimetype": "text/x-python",
   "name": "python",
   "nbconvert_exporter": "python",
   "pygments_lexer": "ipython3",
   "version": "3.8.2"
  }
 },
 "nbformat": 4,
 "nbformat_minor": 4
}
