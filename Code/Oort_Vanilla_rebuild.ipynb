{
 "cells": [
  {
   "cell_type": "code",
   "execution_count": 1,
   "metadata": {},
   "outputs": [],
   "source": [
    "directory = \"/data/s1968653/Vanilla_output/\""
   ]
  },
  {
   "cell_type": "code",
   "execution_count": 2,
   "metadata": {},
   "outputs": [],
   "source": [
    "#Here we import all the necessary dependencies\n",
    "import numpy as np\n",
    "import matplotlib.pyplot as plt\n",
    "import time\n",
    "from tqdm import tqdm\n",
    "from IPython.display import clear_output\n",
    "from amuse.lab import units, constants\n",
    "from amuse.ext.orbital_elements import new_binary_from_orbital_elements\n",
    "from amuse.ext.orbital_elements import get_orbital_elements_from_binary\n",
    "from amuse.ext.orbital_elements import get_orbital_elements_from_binaries\n",
    "from amuse.lab import Particles\n",
    "from amuse.lab import nbody_system\n",
    "from amuse.couple import bridge\n",
    "from amuse.lab import Rebound\n",
    "from amuse.lab import Mercury\n",
    "from amuse.community.ph4.interface import ph4\n",
    "from amuse.io import write_set_to_file, read_set_from_file"
   ]
  },
  {
   "cell_type": "code",
   "execution_count": 3,
   "metadata": {},
   "outputs": [],
   "source": [
    "# Function to generate random orbits for asteroids in the Solar System.\n",
    "def random_positions_and_velocities(N_objects, sun_loc):  \n",
    "    positions = np.zeros((N_objects, 3)) | units.AU\n",
    "    velocities = np.zeros((N_objects,3)) | units.kms\n",
    "    \n",
    "    m_sun = 1 | units.MSun\n",
    "    m_oort = 0 | units.MSun\n",
    "    for i in range(N_objects):\n",
    "        # Values below correspond with random locations anywhere in the Solar System\n",
    "        a = np.random.uniform(4, 40) | units.AU  # semi-major axis\n",
    "        e = np.random.uniform(0, 0.05)  # eccentricity\n",
    "        inclination = np.random.uniform(-5, 5) | units.deg\n",
    "        true_anomaly = np.random.uniform (0, 360) | units.deg\n",
    "        arg_of_periapsis = np.random.uniform(0, 360) | units.deg\n",
    "        long_of_ascending_node = np.random.uniform(0, 360) | units.deg\n",
    "        sun_and_oort = new_binary_from_orbital_elements(m_sun, m_oort, \n",
    "                                          a, e, true_anomaly, inclination, long_of_ascending_node, arg_of_periapsis, G=constants.G)\n",
    "        positions[i] = (sun_and_oort[1].x+sun_loc[0]), (sun_and_oort[1].y+sun_loc[1]), (sun_and_oort[1].z+sun_loc[2])\n",
    "        velocities[i]= sun_and_oort[1].vx, sun_and_oort[1].vy, sun_and_oort[1].vz\n",
    "    return positions, velocities"
   ]
  },
  {
   "cell_type": "code",
   "execution_count": 4,
   "metadata": {},
   "outputs": [],
   "source": [
    "def merge_two_bodies(bodies, particles_in_encounter):\n",
    "    com_pos = particles_in_encounter.center_of_mass()\n",
    "    com_vel = particles_in_encounter.center_of_mass_velocity()\n",
    "    d = (particles_in_encounter[0].position - particles_in_encounter[1].position)\n",
    "    v = (particles_in_encounter[0].velocity - particles_in_encounter[1].velocity)\n",
    "    print(\"Actually merger occurred:\")\n",
    "    print(\"Two objects (M=\",particles_in_encounter.mass.in_(units.MSun),\n",
    "          \") collided with d=\", d.length().in_(units.au))\n",
    "    #time.sleep(10)\n",
    "    new_particle=Particles(1)\n",
    "    new_particle.mass = particles_in_encounter.total_mass()\n",
    "    new_particle.position = com_pos\n",
    "    new_particle.velocity = com_vel\n",
    "    new_particle.radius = ((particles_in_encounter.radius**3).sum())**(1./3.) # New radius cannot simply be summed\n",
    "    bodies.add_particles(new_particle)\n",
    "    bodies.remove_particles(particles_in_encounter)"
   ]
  },
  {
   "cell_type": "code",
   "execution_count": 5,
   "metadata": {},
   "outputs": [],
   "source": [
    "# To resolve a collision between two or more particles, we merge them together using their center of mass (velocity).\n",
    "def resolve_collision(collision_detection, gravity_code, bodies, time):\n",
    "    print(\"Well, we have an actual collision between two or more objects.\")\n",
    "    print(\"This happened at time=\", time.in_(units.yr))\n",
    "    for ci in range(len(collision_detection.particles(0))):  # Multiple pairs of collisions could take place in one timestep\n",
    "        encountering_particles = Particles(particles=[collision_detection.particles(0)[ci],\n",
    "                                                          collision_detection.particles(1)[ci]])\n",
    "        colliding_objects = encountering_particles.get_intersecting_subset_in(bodies)\n",
    "        merge_two_bodies(bodies, colliding_objects)\n",
    "        bodies.synchronize_to(gravity_code.particles) # Update bodies to contain 1 particle instead of 2"
   ]
  },
  {
   "cell_type": "code",
   "execution_count": 6,
   "metadata": {},
   "outputs": [
    {
     "name": "stdout",
     "output_type": "stream",
     "text": [
      "|S11\n"
     ]
    }
   ],
   "source": [
    "#Here we generate a basic solarsystem, with only the gas giants\n",
    "from amuse.ext.solarsystem import new_solar_system\n",
    "\n",
    "def create_system():\n",
    "    system = new_solar_system()\n",
    "    system = system[system.mass > 10**-5 | units.MSun] # Takes gas giants and Sun only\n",
    "    system.move_to_center()\n",
    "    return system\n",
    "    \n",
    "    \n",
    "basic_giants_system = create_system()"
   ]
  },
  {
   "cell_type": "code",
   "execution_count": 7,
   "metadata": {},
   "outputs": [],
   "source": [
    "#Define the number of asteroids and create random velocities and positions\n",
    "N_objects = 1*10**2\n",
    "sun_loc = [basic_giants_system[0].x.in_(units.AU), basic_giants_system[0].y.in_(units.AU), basic_giants_system[0].z.in_(units.AU)]\n",
    "positions, velocities = random_positions_and_velocities(N_objects, sun_loc)"
   ]
  },
  {
   "cell_type": "code",
   "execution_count": 8,
   "metadata": {},
   "outputs": [
    {
     "name": "stderr",
     "output_type": "stream",
     "text": [
      "100%|██████████| 100/100 [00:00<00:00, 357.39it/s]\n"
     ]
    }
   ],
   "source": [
    "# Here we add the asteroids, where orbit parameters were chosen from a uniform distribution\n",
    "def add_comet_objects(system, N_objects, rand_pos, rand_vel):\n",
    "    for i in tqdm(range(N_objects)):\n",
    "        oort = Particles(1)\n",
    "        oort.name = \"OORT_\" + str(i)\n",
    "        oort.mass = 0.0 | units.MSun\n",
    "        oort.radius = (2.3 | units.km).in_(units.RSun) # This is purely non-zero for collisional purposes\n",
    "        oort.position = (rand_pos[i, 0], rand_pos[i, 1], rand_pos[i, 2])\n",
    "        oort.velocity = (rand_vel[i, 0], rand_vel[i, 1], rand_vel[i, 2])\n",
    "\n",
    "        system.add_particle(oort)\n",
    "    return system\n",
    "\n",
    "complete_system = add_comet_objects(basic_giants_system, N_objects, positions, velocities)"
   ]
  },
  {
   "cell_type": "code",
   "execution_count": 10,
   "metadata": {},
   "outputs": [],
   "source": [
    "final_system = complete_system\n",
    "final_system.move_to_center()"
   ]
  },
  {
   "cell_type": "code",
   "execution_count": 11,
   "metadata": {},
   "outputs": [],
   "source": [
    "#Here we perform the conversion for the system\n",
    "converter_length = get_orbital_elements_from_binary(final_system[0:2], G = constants.G)[2].in_(units.AU) # Typical distance used for calculation (=distance from Sun to Jupiter)\n",
    "final_converter=nbody_system.nbody_to_si(final_system.mass.sum(), \n",
    "                                   converter_length)"
   ]
  },
  {
   "cell_type": "code",
   "execution_count": 12,
   "metadata": {},
   "outputs": [
    {
     "name": "stderr",
     "output_type": "stream",
     "text": [
      "  0%|          | 0/10000 [00:00<?, ?it/s]<ipython-input-12-11ae62fadde7>:49: RuntimeWarning: divide by zero encountered in log10\n",
      "  write_set_to_file(particle_system, directory + 'Vanilla_run4_time=.hdf5' + str(np.log10(times[i].value_in(units.yr)))[0:5], format='hdf5', overwrite_file = True)\n",
      "  0%|          | 1/10000 [00:00<25:26,  6.55it/s]"
     ]
    },
    {
     "name": "stdout",
     "output_type": "stream",
     "text": [
      "The solar position is:  [-0.00835192200898, 0.00192107034645, 0.000214528438915] AU\n",
      "The amount of currently escaped comets is  0\n",
      "The amount of dead comets is  0\n",
      "The centre of mass velocity is  [-2.97757836362e-19, 6.49653461154e-19, 5.07541766527e-21] kms\n"
     ]
    },
    {
     "name": "stderr",
     "output_type": "stream",
     "text": [
      "  0%|          | 2/10000 [00:27<23:16:33,  8.38s/it]"
     ]
    },
    {
     "name": "stdout",
     "output_type": "stream",
     "text": [
      "The solar position is:  [0.00537777162668, 0.00120156001694, -0.000112981739083] AU\n",
      "The amount of currently escaped comets is  0\n",
      "The amount of dead comets is  0\n",
      "The centre of mass velocity is  [-6.63187908262e-19, 1.78654701817e-18, 1.56492044679e-20] kms\n"
     ]
    },
    {
     "name": "stderr",
     "output_type": "stream",
     "text": [
      "  0%|          | 3/10000 [00:55<39:17:09, 14.15s/it]"
     ]
    },
    {
     "name": "stdout",
     "output_type": "stream",
     "text": [
      "The solar position is:  [-0.000818775204777, 0.00122787137454, -2.16279269417e-05] AU\n",
      "The amount of currently escaped comets is  0\n",
      "The amount of dead comets is  0\n",
      "The centre of mass velocity is  [-5.41377884295e-19, 2.59184662106e-18, 2.11475736053e-20] kms\n"
     ]
    },
    {
     "name": "stderr",
     "output_type": "stream",
     "text": [
      "  0%|          | 4/10000 [01:23<51:03:59, 18.39s/it]"
     ]
    },
    {
     "name": "stdout",
     "output_type": "stream",
     "text": [
      "The solar position is:  [-0.00428939014475, -0.00495996363868, 8.80693480184e-05] AU\n",
      "The amount of currently escaped comets is  0\n",
      "The amount of dead comets is  0\n",
      "The centre of mass velocity is  [1.05907048615e-18, 2.54447605619e-18, 2.45311853821e-20] kms\n"
     ]
    },
    {
     "name": "stderr",
     "output_type": "stream",
     "text": [
      "  0%|          | 5/10000 [01:51<59:09:46, 21.31s/it]"
     ]
    },
    {
     "name": "stdout",
     "output_type": "stream",
     "text": [
      "The solar position is:  [0.00280226555316, 0.00821046007537, -0.000170534067462] AU\n",
      "The amount of currently escaped comets is  0\n",
      "The amount of dead comets is  0\n",
      "The centre of mass velocity is  [1.62413365289e-18, 2.34145934958e-18, 1.94557677169e-20] kms\n"
     ]
    },
    {
     "name": "stderr",
     "output_type": "stream",
     "text": [
      "  0%|          | 6/10000 [02:19<64:25:40, 23.21s/it]"
     ]
    },
    {
     "name": "stdout",
     "output_type": "stream",
     "text": [
      "The solar position is:  [-0.00178361439522, -0.0078135501645, 0.000102328410485] AU\n",
      "The amount of currently escaped comets is  0\n",
      "The amount of dead comets is  0\n",
      "The centre of mass velocity is  [2.97757836362e-18, 1.56999586446e-18, 5.07541766527e-21] kms\n"
     ]
    },
    {
     "name": "stderr",
     "output_type": "stream",
     "text": [
      "  0%|          | 7/10000 [02:46<68:02:31, 24.51s/it]"
     ]
    },
    {
     "name": "stdout",
     "output_type": "stream",
     "text": [
      "The solar position is:  [0.000772677507012, 0.00231868109885, 2.83948822018e-05] AU\n",
      "The amount of currently escaped comets is  0\n",
      "The amount of dead comets is  0\n",
      "The centre of mass velocity is  [2.70688942148e-18, 2.35499379668e-18, 0.0] kms\n"
     ]
    },
    {
     "name": "stderr",
     "output_type": "stream",
     "text": [
      "  0%|          | 8/10000 [03:14<70:32:50, 25.42s/it]"
     ]
    },
    {
     "name": "stdout",
     "output_type": "stream",
     "text": [
      "ja\n",
      "ja\n",
      "The solar position is:  [-0.002995137607, 0.00145173695842, 0.000111537562599] AU\n",
      "The amount of currently escaped comets is  2\n",
      "The amount of dead comets is  0\n",
      "The centre of mass velocity is  [2.78809610412e-18, 3.78964519007e-19, 2.53770883263e-20] kms\n"
     ]
    },
    {
     "name": "stderr",
     "output_type": "stream",
     "text": [
      "  0%|          | 9/10000 [03:42<72:47:41, 26.23s/it]"
     ]
    },
    {
     "name": "stdout",
     "output_type": "stream",
     "text": [
      "ja\n",
      "ja\n",
      "The solar position is:  [0.00575029427672, -0.00379316615007, -0.0001580858395] AU\n",
      "The amount of currently escaped comets is  2\n",
      "The amount of dead comets is  0\n",
      "The centre of mass velocity is  [2.016632619e-18, 1.13689355702e-18, -4.52558075153e-20] kms\n"
     ]
    },
    {
     "name": "stderr",
     "output_type": "stream",
     "text": [
      "  0%|          | 10/10000 [04:10<73:58:03, 26.65s/it]"
     ]
    },
    {
     "name": "stdout",
     "output_type": "stream",
     "text": [
      "ja\n",
      "ja\n",
      "The solar position is:  [-0.0041436304071, 0.00414361635118, 9.96459653678e-05] AU\n",
      "The amount of currently escaped comets is  2\n",
      "The amount of dead comets is  0\n",
      "The centre of mass velocity is  [2.16551153718e-18, 6.63187908262e-19, -4.73705648758e-20] kms\n"
     ]
    },
    {
     "name": "stderr",
     "output_type": "stream",
     "text": [
      "  0%|          | 11/10000 [04:39<75:50:58, 27.34s/it]"
     ]
    },
    {
     "name": "stdout",
     "output_type": "stream",
     "text": [
      "ja\n",
      "ja\n",
      "The solar position is:  [0.00372183409048, -0.00501663354711, -8.41258349362e-05] AU\n",
      "The amount of currently escaped comets is  2\n",
      "The amount of dead comets is  0\n",
      "The centre of mass velocity is  [1.06795246707e-18, 3.78964519007e-19, -1.11659188636e-19] kms\n"
     ]
    },
    {
     "name": "stderr",
     "output_type": "stream",
     "text": [
      "  0%|          | 12/10000 [05:06<76:08:23, 27.44s/it]"
     ]
    },
    {
     "name": "stdout",
     "output_type": "stream",
     "text": [
      "ja\n",
      "ja\n",
      "The solar position is:  [-0.00206598517105, 0.0054487743761, -1.58597808567e-05] AU\n",
      "The amount of currently escaped comets is  2\n",
      "The amount of dead comets is  0\n",
      "The centre of mass velocity is  [9.74480191732e-19, 5.95515672725e-19, -4.14492442664e-20] kms\n"
     ]
    },
    {
     "name": "stderr",
     "output_type": "stream",
     "text": [
      "  0%|          | 13/10000 [05:34<76:31:58, 27.59s/it]"
     ]
    },
    {
     "name": "stdout",
     "output_type": "stream",
     "text": [
      "ja\n",
      "ja\n",
      "ja\n",
      "The solar position is:  [-2.26280979948e-06, -0.00170035009856, 8.06025531047e-05] AU\n",
      "The amount of currently escaped comets is  3\n",
      "The amount of dead comets is  0\n",
      "The centre of mass velocity is  [9.88014638839e-19, -4.33102307436e-19, -1.35344471074e-20] kms\n"
     ]
    },
    {
     "name": "stderr",
     "output_type": "stream",
     "text": [
      "  0%|          | 14/10000 [06:03<77:04:51, 27.79s/it]"
     ]
    },
    {
     "name": "stdout",
     "output_type": "stream",
     "text": [
      "ja\n",
      "ja\n",
      "ja\n",
      "The solar position is:  [0.00430828406374, 0.00134975048836, -9.85254812399e-05] AU\n",
      "The amount of currently escaped comets is  3\n",
      "The amount of dead comets is  0\n",
      "The centre of mass velocity is  [1.05568687438e-18, 7.57929038013e-19, 1.607215594e-20] kms\n"
     ]
    },
    {
     "name": "stderr",
     "output_type": "stream",
     "text": [
      "  0%|          | 14/10000 [06:31<77:32:08, 27.95s/it]\n"
     ]
    },
    {
     "ename": "KeyboardInterrupt",
     "evalue": "",
     "output_type": "error",
     "traceback": [
      "\u001b[0;31m---------------------------------------------------------------------------\u001b[0m",
      "\u001b[0;31mKeyboardInterrupt\u001b[0m                         Traceback (most recent call last)",
      "\u001b[0;32m<ipython-input-12-11ae62fadde7>\u001b[0m in \u001b[0;36m<module>\u001b[0;34m\u001b[0m\n\u001b[1;32m     71\u001b[0m \u001b[0;34m\u001b[0m\u001b[0m\n\u001b[1;32m     72\u001b[0m \u001b[0;34m\u001b[0m\u001b[0m\n\u001b[0;32m---> 73\u001b[0;31m \u001b[0mvanilla_evolved_system\u001b[0m \u001b[0;34m=\u001b[0m \u001b[0mvanilla_evolver\u001b[0m\u001b[0;34m(\u001b[0m\u001b[0mfinal_system\u001b[0m\u001b[0;34m,\u001b[0m \u001b[0mfinal_converter\u001b[0m\u001b[0;34m,\u001b[0m \u001b[0mN_objects\u001b[0m\u001b[0;34m,\u001b[0m \u001b[0mend_time\u001b[0m\u001b[0;34m=\u001b[0m \u001b[0;36m10\u001b[0m\u001b[0;34m**\u001b[0m\u001b[0;36m8\u001b[0m\u001b[0;34m,\u001b[0m \u001b[0mtime_step\u001b[0m\u001b[0;34m=\u001b[0m \u001b[0;36m10\u001b[0m\u001b[0;34m**\u001b[0m\u001b[0;36m4\u001b[0m\u001b[0;34m)\u001b[0m\u001b[0;34m\u001b[0m\u001b[0;34m\u001b[0m\u001b[0m\n\u001b[0m",
      "\u001b[0;32m<ipython-input-12-11ae62fadde7>\u001b[0m in \u001b[0;36mvanilla_evolver\u001b[0;34m(particle_system, converter, N_objects, end_time, time_step)\u001b[0m\n\u001b[1;32m     23\u001b[0m \u001b[0;34m\u001b[0m\u001b[0m\n\u001b[1;32m     24\u001b[0m     \u001b[0;32mfor\u001b[0m \u001b[0mi\u001b[0m \u001b[0;32min\u001b[0m \u001b[0mtqdm\u001b[0m\u001b[0;34m(\u001b[0m\u001b[0mrange\u001b[0m\u001b[0;34m(\u001b[0m\u001b[0mlen\u001b[0m\u001b[0;34m(\u001b[0m\u001b[0mtimes\u001b[0m\u001b[0;34m)\u001b[0m\u001b[0;34m)\u001b[0m\u001b[0;34m)\u001b[0m\u001b[0;34m:\u001b[0m\u001b[0;34m\u001b[0m\u001b[0;34m\u001b[0m\u001b[0m\n\u001b[0;32m---> 25\u001b[0;31m         \u001b[0mgravity_code\u001b[0m\u001b[0;34m.\u001b[0m\u001b[0mevolve_model\u001b[0m\u001b[0;34m(\u001b[0m\u001b[0mtimes\u001b[0m\u001b[0;34m[\u001b[0m\u001b[0mi\u001b[0m\u001b[0;34m]\u001b[0m\u001b[0;34m)\u001b[0m\u001b[0;34m\u001b[0m\u001b[0;34m\u001b[0m\u001b[0m\n\u001b[0m\u001b[1;32m     26\u001b[0m \u001b[0;34m\u001b[0m\u001b[0m\n\u001b[1;32m     27\u001b[0m         \u001b[0;31m#if stopping_condition.is_set(): # If objects collide, merge them\u001b[0m\u001b[0;34m\u001b[0m\u001b[0;34m\u001b[0m\u001b[0;34m\u001b[0m\u001b[0m\n",
      "\u001b[0;32m~/Amuse-env/lib/python3.8/site-packages/amuse/community/mercury/interface.py\u001b[0m in \u001b[0;36mevolve_model\u001b[0;34m(self, tend)\u001b[0m\n\u001b[1;32m   1451\u001b[0m         \u001b[0mcom_velocity\u001b[0m\u001b[0;34m=\u001b[0m\u001b[0mself\u001b[0m\u001b[0;34m.\u001b[0m\u001b[0mparticles\u001b[0m\u001b[0;34m.\u001b[0m\u001b[0mcenter_of_mass_velocity\u001b[0m\u001b[0;34m(\u001b[0m\u001b[0;34m)\u001b[0m\u001b[0;34m\u001b[0m\u001b[0;34m\u001b[0m\u001b[0m\n\u001b[1;32m   1452\u001b[0m \u001b[0;34m\u001b[0m\u001b[0m\n\u001b[0;32m-> 1453\u001b[0;31m         \u001b[0mret\u001b[0m\u001b[0;34m=\u001b[0m\u001b[0mself\u001b[0m\u001b[0;34m.\u001b[0m\u001b[0moverridden\u001b[0m\u001b[0;34m(\u001b[0m\u001b[0;34m)\u001b[0m\u001b[0;34m.\u001b[0m\u001b[0mevolve_model\u001b[0m\u001b[0;34m(\u001b[0m\u001b[0mtend\u001b[0m\u001b[0;34m)\u001b[0m\u001b[0;34m\u001b[0m\u001b[0;34m\u001b[0m\u001b[0m\n\u001b[0m\u001b[1;32m   1454\u001b[0m         \u001b[0mtmodel\u001b[0m\u001b[0;34m=\u001b[0m\u001b[0mself\u001b[0m\u001b[0;34m.\u001b[0m\u001b[0moverridden\u001b[0m\u001b[0;34m(\u001b[0m\u001b[0;34m)\u001b[0m\u001b[0;34m.\u001b[0m\u001b[0mget_time\u001b[0m\u001b[0;34m(\u001b[0m\u001b[0;34m)\u001b[0m\u001b[0;34m\u001b[0m\u001b[0;34m\u001b[0m\u001b[0m\n\u001b[1;32m   1455\u001b[0m         \u001b[0mcom_position\u001b[0m\u001b[0;34m+=\u001b[0m\u001b[0mcom_velocity\u001b[0m\u001b[0;34m*\u001b[0m\u001b[0;34m(\u001b[0m\u001b[0mtmodel\u001b[0m\u001b[0;34m-\u001b[0m\u001b[0mself\u001b[0m\u001b[0;34m.\u001b[0m\u001b[0mmodel_time\u001b[0m\u001b[0;34m)\u001b[0m\u001b[0;34m\u001b[0m\u001b[0;34m\u001b[0m\u001b[0m\n",
      "\u001b[0;32m~/Amuse-env/lib/python3.8/site-packages/amuse/support/methods.py\u001b[0m in \u001b[0;36m__call__\u001b[0;34m(self, *list_arguments, **keyword_arguments)\u001b[0m\n\u001b[1;32m    166\u001b[0m         \u001b[0mobject\u001b[0m \u001b[0;34m=\u001b[0m \u001b[0mself\u001b[0m\u001b[0;34m.\u001b[0m\u001b[0mprecall\u001b[0m\u001b[0;34m(\u001b[0m\u001b[0;34m)\u001b[0m\u001b[0;34m\u001b[0m\u001b[0;34m\u001b[0m\u001b[0m\n\u001b[1;32m    167\u001b[0m         \u001b[0mlist_arguments\u001b[0m\u001b[0;34m,\u001b[0m \u001b[0mkeyword_arguments\u001b[0m \u001b[0;34m=\u001b[0m \u001b[0mself\u001b[0m\u001b[0;34m.\u001b[0m\u001b[0mconvert_arguments\u001b[0m\u001b[0;34m(\u001b[0m\u001b[0mlist_arguments\u001b[0m\u001b[0;34m,\u001b[0m \u001b[0mkeyword_arguments\u001b[0m\u001b[0;34m)\u001b[0m\u001b[0;34m\u001b[0m\u001b[0;34m\u001b[0m\u001b[0m\n\u001b[0;32m--> 168\u001b[0;31m         \u001b[0mresult\u001b[0m \u001b[0;34m=\u001b[0m \u001b[0mself\u001b[0m\u001b[0;34m.\u001b[0m\u001b[0mmethod\u001b[0m\u001b[0;34m(\u001b[0m\u001b[0;34m*\u001b[0m\u001b[0mlist_arguments\u001b[0m\u001b[0;34m,\u001b[0m \u001b[0;34m**\u001b[0m\u001b[0mkeyword_arguments\u001b[0m\u001b[0;34m)\u001b[0m\u001b[0;34m\u001b[0m\u001b[0;34m\u001b[0m\u001b[0m\n\u001b[0m\u001b[1;32m    169\u001b[0m \u001b[0;34m\u001b[0m\u001b[0m\n\u001b[1;32m    170\u001b[0m         \u001b[0mresult\u001b[0m \u001b[0;34m=\u001b[0m \u001b[0mself\u001b[0m\u001b[0;34m.\u001b[0m\u001b[0mconvert_result\u001b[0m\u001b[0;34m(\u001b[0m\u001b[0mresult\u001b[0m\u001b[0;34m)\u001b[0m\u001b[0;34m\u001b[0m\u001b[0;34m\u001b[0m\u001b[0m\n",
      "\u001b[0;32m~/Amuse-env/lib/python3.8/site-packages/amuse/support/methods.py\u001b[0m in \u001b[0;36m__call__\u001b[0;34m(self, *list_arguments, **keyword_arguments)\u001b[0m\n\u001b[1;32m    166\u001b[0m         \u001b[0mobject\u001b[0m \u001b[0;34m=\u001b[0m \u001b[0mself\u001b[0m\u001b[0;34m.\u001b[0m\u001b[0mprecall\u001b[0m\u001b[0;34m(\u001b[0m\u001b[0;34m)\u001b[0m\u001b[0;34m\u001b[0m\u001b[0;34m\u001b[0m\u001b[0m\n\u001b[1;32m    167\u001b[0m         \u001b[0mlist_arguments\u001b[0m\u001b[0;34m,\u001b[0m \u001b[0mkeyword_arguments\u001b[0m \u001b[0;34m=\u001b[0m \u001b[0mself\u001b[0m\u001b[0;34m.\u001b[0m\u001b[0mconvert_arguments\u001b[0m\u001b[0;34m(\u001b[0m\u001b[0mlist_arguments\u001b[0m\u001b[0;34m,\u001b[0m \u001b[0mkeyword_arguments\u001b[0m\u001b[0;34m)\u001b[0m\u001b[0;34m\u001b[0m\u001b[0;34m\u001b[0m\u001b[0m\n\u001b[0;32m--> 168\u001b[0;31m         \u001b[0mresult\u001b[0m \u001b[0;34m=\u001b[0m \u001b[0mself\u001b[0m\u001b[0;34m.\u001b[0m\u001b[0mmethod\u001b[0m\u001b[0;34m(\u001b[0m\u001b[0;34m*\u001b[0m\u001b[0mlist_arguments\u001b[0m\u001b[0;34m,\u001b[0m \u001b[0;34m**\u001b[0m\u001b[0mkeyword_arguments\u001b[0m\u001b[0;34m)\u001b[0m\u001b[0;34m\u001b[0m\u001b[0;34m\u001b[0m\u001b[0m\n\u001b[0m\u001b[1;32m    169\u001b[0m \u001b[0;34m\u001b[0m\u001b[0m\n\u001b[1;32m    170\u001b[0m         \u001b[0mresult\u001b[0m \u001b[0;34m=\u001b[0m \u001b[0mself\u001b[0m\u001b[0;34m.\u001b[0m\u001b[0mconvert_result\u001b[0m\u001b[0;34m(\u001b[0m\u001b[0mresult\u001b[0m\u001b[0;34m)\u001b[0m\u001b[0;34m\u001b[0m\u001b[0;34m\u001b[0m\u001b[0m\n",
      "\u001b[0;32m~/Amuse-env/lib/python3.8/site-packages/amuse/support/methods.py\u001b[0m in \u001b[0;36m__call__\u001b[0;34m(self, *list_arguments, **keyword_arguments)\u001b[0m\n\u001b[1;32m    166\u001b[0m         \u001b[0mobject\u001b[0m \u001b[0;34m=\u001b[0m \u001b[0mself\u001b[0m\u001b[0;34m.\u001b[0m\u001b[0mprecall\u001b[0m\u001b[0;34m(\u001b[0m\u001b[0;34m)\u001b[0m\u001b[0;34m\u001b[0m\u001b[0;34m\u001b[0m\u001b[0m\n\u001b[1;32m    167\u001b[0m         \u001b[0mlist_arguments\u001b[0m\u001b[0;34m,\u001b[0m \u001b[0mkeyword_arguments\u001b[0m \u001b[0;34m=\u001b[0m \u001b[0mself\u001b[0m\u001b[0;34m.\u001b[0m\u001b[0mconvert_arguments\u001b[0m\u001b[0;34m(\u001b[0m\u001b[0mlist_arguments\u001b[0m\u001b[0;34m,\u001b[0m \u001b[0mkeyword_arguments\u001b[0m\u001b[0;34m)\u001b[0m\u001b[0;34m\u001b[0m\u001b[0;34m\u001b[0m\u001b[0m\n\u001b[0;32m--> 168\u001b[0;31m         \u001b[0mresult\u001b[0m \u001b[0;34m=\u001b[0m \u001b[0mself\u001b[0m\u001b[0;34m.\u001b[0m\u001b[0mmethod\u001b[0m\u001b[0;34m(\u001b[0m\u001b[0;34m*\u001b[0m\u001b[0mlist_arguments\u001b[0m\u001b[0;34m,\u001b[0m \u001b[0;34m**\u001b[0m\u001b[0mkeyword_arguments\u001b[0m\u001b[0;34m)\u001b[0m\u001b[0;34m\u001b[0m\u001b[0;34m\u001b[0m\u001b[0m\n\u001b[0m\u001b[1;32m    169\u001b[0m \u001b[0;34m\u001b[0m\u001b[0m\n\u001b[1;32m    170\u001b[0m         \u001b[0mresult\u001b[0m \u001b[0;34m=\u001b[0m \u001b[0mself\u001b[0m\u001b[0;34m.\u001b[0m\u001b[0mconvert_result\u001b[0m\u001b[0;34m(\u001b[0m\u001b[0mresult\u001b[0m\u001b[0;34m)\u001b[0m\u001b[0;34m\u001b[0m\u001b[0;34m\u001b[0m\u001b[0m\n",
      "\u001b[0;32m~/Amuse-env/lib/python3.8/site-packages/amuse/support/methods.py\u001b[0m in \u001b[0;36m__call__\u001b[0;34m(self, *list_arguments, **keyword_arguments)\u001b[0m\n\u001b[1;32m    265\u001b[0m \u001b[0;34m\u001b[0m\u001b[0m\n\u001b[1;32m    266\u001b[0m     \u001b[0;32mdef\u001b[0m \u001b[0m__call__\u001b[0m\u001b[0;34m(\u001b[0m\u001b[0mself\u001b[0m\u001b[0;34m,\u001b[0m \u001b[0;34m*\u001b[0m\u001b[0mlist_arguments\u001b[0m\u001b[0;34m,\u001b[0m \u001b[0;34m**\u001b[0m\u001b[0mkeyword_arguments\u001b[0m\u001b[0;34m)\u001b[0m\u001b[0;34m:\u001b[0m\u001b[0;34m\u001b[0m\u001b[0;34m\u001b[0m\u001b[0m\n\u001b[0;32m--> 267\u001b[0;31m         \u001b[0;32mreturn\u001b[0m \u001b[0mself\u001b[0m\u001b[0;34m.\u001b[0m\u001b[0mmethod\u001b[0m\u001b[0;34m(\u001b[0m\u001b[0;34m*\u001b[0m\u001b[0mlist_arguments\u001b[0m\u001b[0;34m,\u001b[0m \u001b[0;34m**\u001b[0m\u001b[0mkeyword_arguments\u001b[0m\u001b[0;34m)\u001b[0m\u001b[0;34m\u001b[0m\u001b[0;34m\u001b[0m\u001b[0m\n\u001b[0m\u001b[1;32m    268\u001b[0m \u001b[0;34m\u001b[0m\u001b[0m\n\u001b[1;32m    269\u001b[0m     \u001b[0;32mdef\u001b[0m \u001b[0masynchronous\u001b[0m\u001b[0;34m(\u001b[0m\u001b[0mself\u001b[0m\u001b[0;34m,\u001b[0m \u001b[0;34m*\u001b[0m\u001b[0mlist_arguments\u001b[0m\u001b[0;34m,\u001b[0m \u001b[0;34m**\u001b[0m\u001b[0mkeyword_arguments\u001b[0m\u001b[0;34m)\u001b[0m\u001b[0;34m:\u001b[0m\u001b[0;34m\u001b[0m\u001b[0;34m\u001b[0m\u001b[0m\n",
      "\u001b[0;32m~/Amuse-env/lib/python3.8/site-packages/amuse/rfi/core.py\u001b[0m in \u001b[0;36m__call__\u001b[0;34m(self, *arguments_list, **keyword_arguments)\u001b[0m\n\u001b[1;32m    118\u001b[0m             \u001b[0mself\u001b[0m\u001b[0;34m.\u001b[0m\u001b[0minterface\u001b[0m\u001b[0;34m.\u001b[0m\u001b[0mchannel\u001b[0m\u001b[0;34m.\u001b[0m\u001b[0msend_message\u001b[0m\u001b[0;34m(\u001b[0m\u001b[0mcall_id\u001b[0m\u001b[0;34m,\u001b[0m \u001b[0mself\u001b[0m\u001b[0;34m.\u001b[0m\u001b[0mspecification\u001b[0m\u001b[0;34m.\u001b[0m\u001b[0mid\u001b[0m\u001b[0;34m,\u001b[0m \u001b[0mdtype_to_arguments\u001b[0m \u001b[0;34m=\u001b[0m \u001b[0mdtype_to_values\u001b[0m\u001b[0;34m)\u001b[0m\u001b[0;34m\u001b[0m\u001b[0;34m\u001b[0m\u001b[0m\n\u001b[1;32m    119\u001b[0m \u001b[0;34m\u001b[0m\u001b[0m\n\u001b[0;32m--> 120\u001b[0;31m             \u001b[0mdtype_to_result\u001b[0m \u001b[0;34m=\u001b[0m \u001b[0mself\u001b[0m\u001b[0;34m.\u001b[0m\u001b[0minterface\u001b[0m\u001b[0;34m.\u001b[0m\u001b[0mchannel\u001b[0m\u001b[0;34m.\u001b[0m\u001b[0mrecv_message\u001b[0m\u001b[0;34m(\u001b[0m\u001b[0mcall_id\u001b[0m\u001b[0;34m,\u001b[0m \u001b[0mself\u001b[0m\u001b[0;34m.\u001b[0m\u001b[0mspecification\u001b[0m\u001b[0;34m.\u001b[0m\u001b[0mid\u001b[0m\u001b[0;34m,\u001b[0m \u001b[0mhandle_as_array\u001b[0m\u001b[0;34m)\u001b[0m\u001b[0;34m\u001b[0m\u001b[0;34m\u001b[0m\u001b[0m\n\u001b[0m\u001b[1;32m    121\u001b[0m         \u001b[0;32mexcept\u001b[0m \u001b[0mException\u001b[0m \u001b[0;32mas\u001b[0m \u001b[0mex\u001b[0m\u001b[0;34m:\u001b[0m\u001b[0;34m\u001b[0m\u001b[0;34m\u001b[0m\u001b[0m\n\u001b[1;32m    122\u001b[0m             \u001b[0mCODE_LOG\u001b[0m\u001b[0;34m.\u001b[0m\u001b[0minfo\u001b[0m\u001b[0;34m(\u001b[0m\u001b[0;34m\"Exception when calling function '{0}', of code '{1}', exception was '{2}'\"\u001b[0m\u001b[0;34m.\u001b[0m\u001b[0mformat\u001b[0m\u001b[0;34m(\u001b[0m\u001b[0mself\u001b[0m\u001b[0;34m.\u001b[0m\u001b[0mspecification\u001b[0m\u001b[0;34m.\u001b[0m\u001b[0mname\u001b[0m\u001b[0;34m,\u001b[0m \u001b[0mtype\u001b[0m\u001b[0;34m(\u001b[0m\u001b[0mself\u001b[0m\u001b[0;34m.\u001b[0m\u001b[0minterface\u001b[0m\u001b[0;34m)\u001b[0m\u001b[0;34m.\u001b[0m\u001b[0m__name__\u001b[0m\u001b[0;34m,\u001b[0m \u001b[0mex\u001b[0m\u001b[0;34m)\u001b[0m\u001b[0;34m)\u001b[0m\u001b[0;34m\u001b[0m\u001b[0;34m\u001b[0m\u001b[0m\n",
      "\u001b[0;32m~/Amuse-env/lib/python3.8/site-packages/amuse/rfi/channel.py\u001b[0m in \u001b[0;36mrecv_message\u001b[0;34m(self, call_id, function_id, handle_as_array, has_units)\u001b[0m\n\u001b[1;32m   1144\u001b[0m         )\n\u001b[1;32m   1145\u001b[0m         \u001b[0;32mtry\u001b[0m\u001b[0;34m:\u001b[0m\u001b[0;34m\u001b[0m\u001b[0;34m\u001b[0m\u001b[0m\n\u001b[0;32m-> 1146\u001b[0;31m             \u001b[0mmessage\u001b[0m\u001b[0;34m.\u001b[0m\u001b[0mreceive\u001b[0m\u001b[0;34m(\u001b[0m\u001b[0mself\u001b[0m\u001b[0;34m.\u001b[0m\u001b[0mintercomm\u001b[0m\u001b[0;34m)\u001b[0m\u001b[0;34m\u001b[0m\u001b[0;34m\u001b[0m\u001b[0m\n\u001b[0m\u001b[1;32m   1147\u001b[0m         \u001b[0;32mexcept\u001b[0m \u001b[0mMPI\u001b[0m\u001b[0;34m.\u001b[0m\u001b[0mException\u001b[0m \u001b[0;32mas\u001b[0m \u001b[0mex\u001b[0m\u001b[0;34m:\u001b[0m\u001b[0;34m\u001b[0m\u001b[0;34m\u001b[0m\u001b[0m\n\u001b[1;32m   1148\u001b[0m             \u001b[0mself\u001b[0m\u001b[0;34m.\u001b[0m\u001b[0m_is_inuse\u001b[0m \u001b[0;34m=\u001b[0m \u001b[0;32mFalse\u001b[0m\u001b[0;34m\u001b[0m\u001b[0;34m\u001b[0m\u001b[0m\n",
      "\u001b[0;32m~/Amuse-env/lib/python3.8/site-packages/amuse/rfi/channel.py\u001b[0m in \u001b[0;36mreceive\u001b[0;34m(self, comm)\u001b[0m\n\u001b[1;32m    117\u001b[0m \u001b[0;34m\u001b[0m\u001b[0m\n\u001b[1;32m    118\u001b[0m     \u001b[0;32mdef\u001b[0m \u001b[0mreceive\u001b[0m\u001b[0;34m(\u001b[0m\u001b[0mself\u001b[0m\u001b[0;34m,\u001b[0m \u001b[0mcomm\u001b[0m\u001b[0;34m)\u001b[0m\u001b[0;34m:\u001b[0m\u001b[0;34m\u001b[0m\u001b[0;34m\u001b[0m\u001b[0m\n\u001b[0;32m--> 119\u001b[0;31m         \u001b[0mheader\u001b[0m \u001b[0;34m=\u001b[0m \u001b[0mself\u001b[0m\u001b[0;34m.\u001b[0m\u001b[0mreceive_header\u001b[0m\u001b[0;34m(\u001b[0m\u001b[0mcomm\u001b[0m\u001b[0;34m)\u001b[0m\u001b[0;34m\u001b[0m\u001b[0;34m\u001b[0m\u001b[0m\n\u001b[0m\u001b[1;32m    120\u001b[0m         \u001b[0mself\u001b[0m\u001b[0;34m.\u001b[0m\u001b[0mreceive_content\u001b[0m\u001b[0;34m(\u001b[0m\u001b[0mcomm\u001b[0m\u001b[0;34m,\u001b[0m \u001b[0mheader\u001b[0m\u001b[0;34m)\u001b[0m\u001b[0;34m\u001b[0m\u001b[0;34m\u001b[0m\u001b[0m\n\u001b[1;32m    121\u001b[0m \u001b[0;34m\u001b[0m\u001b[0m\n",
      "\u001b[0;32m~/Amuse-env/lib/python3.8/site-packages/amuse/rfi/channel.py\u001b[0m in \u001b[0;36mreceive_header\u001b[0;34m(self, comm)\u001b[0m\n\u001b[1;32m    350\u001b[0m             \u001b[0mrequest\u001b[0m\u001b[0;34m.\u001b[0m\u001b[0mWait\u001b[0m\u001b[0;34m(\u001b[0m\u001b[0;34m)\u001b[0m\u001b[0;34m\u001b[0m\u001b[0;34m\u001b[0m\u001b[0m\n\u001b[1;32m    351\u001b[0m         \u001b[0;32melse\u001b[0m\u001b[0;34m:\u001b[0m\u001b[0;34m\u001b[0m\u001b[0;34m\u001b[0m\u001b[0m\n\u001b[0;32m--> 352\u001b[0;31m             \u001b[0mrequest\u001b[0m\u001b[0;34m.\u001b[0m\u001b[0mWait\u001b[0m\u001b[0;34m(\u001b[0m\u001b[0;34m)\u001b[0m\u001b[0;34m\u001b[0m\u001b[0;34m\u001b[0m\u001b[0m\n\u001b[0m\u001b[1;32m    353\u001b[0m         \u001b[0;32mreturn\u001b[0m \u001b[0mheader\u001b[0m\u001b[0;34m\u001b[0m\u001b[0;34m\u001b[0m\u001b[0m\n\u001b[1;32m    354\u001b[0m \u001b[0;34m\u001b[0m\u001b[0m\n",
      "\u001b[0;31mKeyboardInterrupt\u001b[0m: "
     ]
    }
   ],
   "source": [
    "#Here we evolve the basic system, without grandtack or Milky way potential\n",
    "\n",
    "def vanilla_evolver(particle_system, converter, N_objects, end_time=4*10**3, time_step=0.1):\n",
    "    \n",
    "    names = ['Sun', 'Jupiter', 'Saturn', 'Uranus', 'Neptune']\n",
    "    \n",
    "    if N_objects > 2*10**1:\n",
    "        gravity_code = Mercury(final_converter) # Runs smoother with many particles\n",
    "    else:\n",
    "        gravity_code = ph4(final_converter)\n",
    "    \n",
    "    #stopping_condition = gravity_code.stopping_conditions.collision_detection\n",
    "    #stopping_condition.enable()\n",
    "    \n",
    "    gravity_code.particles.add_particles(particle_system)\n",
    "    ch_g2l = gravity_code.particles.new_channel_to(particle_system)\n",
    "    \n",
    "    times = np.arange(0., end_time, time_step) | units.yr\n",
    "    \n",
    "    ajup = np.zeros(len(times)) | units.AU\n",
    "    \n",
    "    dead_comets = []\n",
    "    \n",
    "    for i in tqdm(range(len(times))):\n",
    "        gravity_code.evolve_model(times[i])\n",
    "        ch_g2l.copy()\n",
    "            \n",
    "        if i%50 == 0:\n",
    "            write_set_to_file(particle_system, directory + 'Vanilla_run4_time=' + str(np.log10(times[i].value_in(units.yr)))[0:5] + '.hdf5', format='hdf5', overwrite_file = True)\n",
    "        \n",
    "        out_of_bounds, escaped_comets = [], []\n",
    "        for i in range(len(particle_system)):\n",
    "            if particle_system[i].position.length() > 500 | units.AU:\n",
    "                escaped_comets.append(particle_system[i].name)\n",
    "                if particle_system[i].position.length() > 250000 | units.AU:\n",
    "                    out_of_bounds.append(particle_system[i])\n",
    "                    dead_comets.append(particle_system[i])\n",
    "        for particle in out_of_bounds:\n",
    "            particle_system.remove_particle(particle)\n",
    "            particle_system.synchronize_to(gravity_code.particles)\n",
    "            \n",
    "        print(\"The time is\", times[i])\n",
    "        print(\"The solar position is: \", particle_system[0].position.in_(units.AU))\n",
    "        print(\"The amount of currently escaped comets is \", len(escaped_comets))\n",
    "        print(\"The amount of dead comets is \", len(dead_comets))\n",
    "        print(\"The centre of mass velocity is \", particle_system.center_of_mass_velocity().in_(units.kms))\n",
    "    \n",
    "    gravity_code.stop()\n",
    "    write_set_to_file(particle_system, directory + 'Vanilla_run4_final.hdf5', format='hdf5', overwrite_file = True)\n",
    "    return particle_system\n",
    "    \n",
    "    \n",
    "vanilla_evolved_system = vanilla_evolver(final_system, final_converter, N_objects, end_time= 10**8, time_step= 10**5)"
   ]
  },
  {
   "cell_type": "code",
   "execution_count": null,
   "metadata": {},
   "outputs": [],
   "source": []
  }
 ],
 "metadata": {
  "kernelspec": {
   "display_name": "Python 3",
   "language": "python",
   "name": "python3"
  },
  "language_info": {
   "codemirror_mode": {
    "name": "ipython",
    "version": 3
   },
   "file_extension": ".py",
   "mimetype": "text/x-python",
   "name": "python",
   "nbconvert_exporter": "python",
   "pygments_lexer": "ipython3",
   "version": "3.8.2"
  }
 },
 "nbformat": 4,
 "nbformat_minor": 2
}
