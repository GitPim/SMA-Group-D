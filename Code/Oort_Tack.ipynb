{
 "cells": [
  {
   "cell_type": "markdown",
   "metadata": {},
   "source": [
    "## Notes\n",
    "\n",
    "- In de laatste cell is het plotten de limiterende factor\n",
    "\n",
    "## Check/To do\n",
    "\n",
    "- Velocity kick\n",
    "- Maak V_orbit vs a_orbit plot tijdens simulatie en check of objecten die V_esc overschrijden ook daadwerkelijk escapen"
   ]
  },
  {
   "cell_type": "code",
   "execution_count": 1,
   "metadata": {},
   "outputs": [],
   "source": [
    "#Here we import all the necessary dependencies\n",
    "import numpy as np\n",
    "import matplotlib.pyplot as plt\n",
    "import time\n",
    "from tqdm import tqdm\n",
    "from IPython.display import clear_output\n",
    "from amuse.lab import units, constants\n",
    "from amuse.ext.orbital_elements import new_binary_from_orbital_elements\n",
    "from amuse.ext.orbital_elements import get_orbital_elements_from_binary\n",
    "from amuse.ext.orbital_elements import get_orbital_elements_from_binaries\n",
    "from amuse.lab import Particles\n",
    "from amuse.lab import nbody_system\n",
    "from amuse.couple import bridge\n",
    "from amuse.lab import Rebound\n",
    "from amuse.lab import Mercury\n",
    "from amuse.community.ph4.interface import ph4\n",
    "from amuse.io import write_set_to_file, read_set_from_file"
   ]
  },
  {
   "cell_type": "code",
   "execution_count": 2,
   "metadata": {},
   "outputs": [],
   "source": [
    "# Function to generate random orbits for asteroids in the Solar System.\n",
    "def random_positions_and_velocities(N_objects, sun_loc):  \n",
    "    positions = np.zeros((N_objects, 3)) | units.AU\n",
    "    velocities = np.zeros((N_objects,3)) | units.kms\n",
    "    \n",
    "    m_sun = 1 | units.MSun\n",
    "    m_oort = 0 | units.MSun\n",
    "    for i in range(N_objects):\n",
    "        # Values below correspond with random locations anywhere in the Solar System\n",
    "        a = np.random.uniform(4, 40) | units.AU  # semi-major axis\n",
    "        e = np.random.uniform(0, 0.05)  # eccentricity\n",
    "        inclination = np.random.uniform(-5, 5) | units.deg\n",
    "        true_anomaly = np.random.uniform (0, 360) | units.deg\n",
    "        arg_of_periapsis = np.random.uniform(0, 360) | units.deg\n",
    "        long_of_ascending_node = np.random.uniform(0, 360) | units.deg\n",
    "        sun_and_oort = new_binary_from_orbital_elements(m_sun, m_oort, \n",
    "                                          a, e, true_anomaly, inclination, long_of_ascending_node, arg_of_periapsis, G=constants.G)\n",
    "        positions[i] = (sun_and_oort[1].x+sun_loc[0]), (sun_and_oort[1].y+sun_loc[1]), (sun_and_oort[1].z+sun_loc[2])\n",
    "        velocities[i]= sun_and_oort[1].vx, sun_and_oort[1].vy, sun_and_oort[1].vz\n",
    "    return positions, velocities"
   ]
  },
  {
   "cell_type": "code",
   "execution_count": 3,
   "metadata": {},
   "outputs": [],
   "source": [
    "def merge_two_bodies(bodies, particles_in_encounter):\n",
    "    com_pos = particles_in_encounter.center_of_mass()\n",
    "    com_vel = particles_in_encounter.center_of_mass_velocity()\n",
    "    d = (particles_in_encounter[0].position - particles_in_encounter[1].position)\n",
    "    v = (particles_in_encounter[0].velocity - particles_in_encounter[1].velocity)\n",
    "    print(\"Actually merger occurred:\")\n",
    "    print(\"Two objects (M=\",particles_in_encounter.mass.in_(units.MSun),\n",
    "          \") collided with d=\", d.length().in_(units.au))\n",
    "    #time.sleep(10)\n",
    "    new_particle=Particles(1)\n",
    "    new_particle.mass = particles_in_encounter.total_mass()\n",
    "    new_particle.position = com_pos\n",
    "    new_particle.velocity = com_vel\n",
    "    new_particle.radius = ((particles_in_encounter.radius**3).sum())**(1./3.) # New radius cannot simply be summed\n",
    "    bodies.add_particles(new_particle)\n",
    "    bodies.remove_particles(particles_in_encounter)"
   ]
  },
  {
   "cell_type": "code",
   "execution_count": 4,
   "metadata": {},
   "outputs": [],
   "source": [
    "# To resolve a collision between two or more particles, we merge them together using their center of mass (velocity).\n",
    "def resolve_collision(collision_detection, gravity_code, bodies, time):\n",
    "    print(\"Well, we have an actual collision between two or more objects.\")\n",
    "    print(\"This happened at time=\", time.in_(units.yr))\n",
    "    for ci in range(len(collision_detection.particles(0))):  # Multiple pairs of collisions could take place in one timestep\n",
    "        encountering_particles = Particles(particles=[collision_detection.particles(0)[ci],\n",
    "                                                          collision_detection.particles(1)[ci]])\n",
    "        colliding_objects = encountering_particles.get_intersecting_subset_in(bodies)\n",
    "        merge_two_bodies(bodies, colliding_objects)\n",
    "        bodies.synchronize_to(gravity_code.particles) # Update bodies to contain 1 particle instead of 2"
   ]
  },
  {
   "cell_type": "code",
   "execution_count": 5,
   "metadata": {},
   "outputs": [
    {
     "name": "stdout",
     "output_type": "stream",
     "text": [
      "|S11\n"
     ]
    }
   ],
   "source": [
    "#Here we generate a basic solarsystem, with only the gas giants\n",
    "from amuse.ext.solarsystem import new_solar_system\n",
    "\n",
    "def create_system():\n",
    "    system = new_solar_system()\n",
    "    system = system[system.mass > 10**-5 | units.MSun] # Takes gas giants and Sun only\n",
    "    system.move_to_center()\n",
    "    return system\n",
    "    \n",
    "    \n",
    "basic_giants_system = create_system()"
   ]
  },
  {
   "cell_type": "code",
   "execution_count": 6,
   "metadata": {},
   "outputs": [],
   "source": [
    "#Define the number of asteroids and create random velocities and positions\n",
    "N_objects = 1*10**2\n",
    "sun_loc = [basic_giants_system[0].x.in_(units.AU), basic_giants_system[0].y.in_(units.AU), basic_giants_system[0].z.in_(units.AU)]\n",
    "positions, velocities = random_positions_and_velocities(N_objects, sun_loc)"
   ]
  },
  {
   "cell_type": "code",
   "execution_count": 7,
   "metadata": {},
   "outputs": [
    {
     "name": "stderr",
     "output_type": "stream",
     "text": [
      "100%|██████████| 100/100 [00:00<00:00, 615.43it/s]\n"
     ]
    }
   ],
   "source": [
    "# Here we add the asteroids, where orbit parameters were chosen from a uniform distribution\n",
    "def add_comet_objects(system, N_objects, rand_pos, rand_vel):\n",
    "    for i in tqdm(range(N_objects)):\n",
    "        oort = Particles(1)\n",
    "        oort.name = \"OORT_\" + str(i)\n",
    "        oort.mass = 0.0 | units.MSun\n",
    "        oort.radius = (2.3 | units.km).in_(units.RSun) # This is purely non-zero for collisional purposes\n",
    "        oort.position = (rand_pos[i, 0], rand_pos[i, 1], rand_pos[i, 2])\n",
    "        oort.velocity = (rand_vel[i, 0], rand_vel[i, 1], rand_vel[i, 2])\n",
    "\n",
    "        system.add_particle(oort)\n",
    "    return system\n",
    "\n",
    "complete_system = add_comet_objects(basic_giants_system, N_objects, positions, velocities)"
   ]
  },
  {
   "cell_type": "code",
   "execution_count": 8,
   "metadata": {},
   "outputs": [
    {
     "data": {
      "text/plain": [
       "<matplotlib.collections.PathCollection at 0x7fa9d4891eb0>"
      ]
     },
     "execution_count": 8,
     "metadata": {},
     "output_type": "execute_result"
    },
    {
     "data": {
      "image/png": "[encoded data removed]",
      "text/plain": [
       "<Figure size 432x288 with 1 Axes>"
      ]
     },
     "metadata": {
      "needs_background": "light"
     },
     "output_type": "display_data"
    }
   ],
   "source": [
    "#plot the distribution in the orbital plane\n",
    "import amuse.plot as plot\n",
    "plot.scatter(complete_system.x, complete_system.z)"
   ]
  },
  {
   "cell_type": "code",
   "execution_count": 9,
   "metadata": {},
   "outputs": [],
   "source": [
    "#Here we create the conditions for the migration of the planets\n",
    "\n",
    "def in_migration_jup(t_now, t_prev, tau, dv):\n",
    "    velocity_kick = (dv*(t_now-t_prev)/tau)\n",
    "    return velocity_kick\n",
    "\n",
    "final_system = complete_system\n",
    "final_system.move_to_center()"
   ]
  },
  {
   "cell_type": "code",
   "execution_count": 10,
   "metadata": {},
   "outputs": [],
   "source": [
    "#Here we perform the conversion for the system\n",
    "converter_length = get_orbital_elements_from_binary(final_system[0:2], G = constants.G)[2].in_(units.AU) # Typical distance used for calculation (=distance from Sun to Jupiter)\n",
    "final_converter=nbody_system.nbody_to_si(final_system.mass.sum(), \n",
    "                                   converter_length)"
   ]
  },
  {
   "cell_type": "code",
   "execution_count": 11,
   "metadata": {},
   "outputs": [
    {
     "name": "stderr",
     "output_type": "stream",
     "text": [
      "100%|██████████| 100/100 [00:49<00:00,  2.03it/s]\n"
     ]
    },
    {
     "data": {
      "image/png": "[encoded data removed]",
      "text/plain": [
       "<Figure size 432x288 with 1 Axes>"
      ]
     },
     "metadata": {
      "needs_background": "light"
     },
     "output_type": "display_data"
    }
   ],
   "source": [
    "#Here we evolve the basic system, without grandtack or Milky way potential\n",
    "\n",
    "def vanilla_evolver(particle_system, converter, N_objects, end_time=4*10**3, time_step=0.1):\n",
    "    \n",
    "    names = ['Sun', 'Jupiter', 'Saturn', 'Uranus', 'Neptune']\n",
    "    \n",
    "    if N_objects > 2*10**3:\n",
    "        gravity_code = Mercury(final_converter) # Runs smoother with many particles\n",
    "    else:\n",
    "        gravity_code = ph4(final_converter)\n",
    "    \n",
    "    stopping_condition = gravity_code.stopping_conditions.collision_detection\n",
    "    stopping_condition.enable()\n",
    "    \n",
    "    gravity_code.particles.add_particles(particle_system)\n",
    "    ch_g2l = gravity_code.particles.new_channel_to(particle_system)\n",
    "    \n",
    "    times = np.arange(0., end_time, time_step) | units.yr\n",
    "    \n",
    "    ajup = np.zeros(len(times)) | units.AU\n",
    "    \n",
    "    for i in tqdm(range(len(times))):\n",
    "        gravity_code.evolve_model(times[i])\n",
    "        \n",
    "        tau = 10**5 | units.yr\n",
    "        dv = 1 | units.kms\n",
    "        \n",
    "        if i > 0:\n",
    "            gravity_code.particles[1].velocity = ((gravity_code.particles[1].velocity.length()+in_migration_jup(times[i], times[i-1], tau, dv))/gravity_code.particles[1].velocity.length())*gravity_code.particles[1].velocity\n",
    "        ajup[i] = gravity_code.particles[1].position.length()\n",
    "        #if stopping_condition.is_set(): # If objects collide, merge them\n",
    "        #    resolve_collision(stopping_condition, gravity_code, particle_system, times[i])\n",
    "        ch_g2l.copy()\n",
    "                \n",
    "    \n",
    "        \n",
    "        if times[i] == (end_time-time_step) | units.day:\n",
    "            \n",
    "            plot.scatter(gravity_code.particles.x.in_(units.AU), gravity_code.particles.y.in_(units.AU), s= 6)\n",
    "            for j in range(5):\n",
    "                plot.scatter(gravity_code.particles[j].x.in_(units.AU), gravity_code.particles[j].y.in_(units.AU), label = names[j])\n",
    "            plot.text(-35, 32, \"Time = \" + str(times[i].value_in(units.yr))[0:7] + \" yrs.\")\n",
    "            plt.legend()\n",
    "            fig = plt.gcf()\n",
    "            fig.set_size_inches(12, 9)\n",
    "            #clear_output(wait=True) \n",
    "            plt.show()\n",
    "            \n",
    "    plot.plot(times, ajup)\n",
    "    plt.show()\n",
    "    \n",
    "    gravity_code.stop()\n",
    "    return particle_system\n",
    "    \n",
    "    \n",
    "vanilla_evolved_system = vanilla_evolver(basic_giants_system, final_converter, N_objects, end_time= 10**5, time_step= 10**3)"
   ]
  },
  {
   "cell_type": "code",
   "execution_count": null,
   "metadata": {},
   "outputs": [],
   "source": []
  },
  {
   "cell_type": "code",
   "execution_count": 12,
   "metadata": {},
   "outputs": [],
   "source": [
    "#Here we evolve the basic system, with Milky way potential\n",
    "def MWG_evolver(particle_system, potential, converter, N_objects, end_time=4*10**3, time_step=0.1):\n",
    "    names = ['Sun', 'Jupiter', 'Saturn', 'Uranus', 'Neptune']\n",
    "    \n",
    "    if N_objects > 2*10**3:\n",
    "        gravity_code = Mercury(final_converter)\n",
    "    else:\n",
    "        gravity_code = ph4(final_converter)\n",
    "    \n",
    "    stopping_condition = gravity_code.stopping_conditions.collision_detection\n",
    "    stopping_condition.enable()\n",
    "    \n",
    "    gravity_code.particles.add_particles(particle_system)\n",
    "    ch_g2l = gravity_code.particles.new_channel_to(particle_system)\n",
    "    \n",
    "    gravity_bridge = 0\n",
    "    gravity_bridge = bridge.Bridge(use_threading=False)\n",
    "    gravity_bridge.add_system(gravity_code, (potential,) )\n",
    "    gravity_bridge.timestep = time_step|units.day\n",
    "    \n",
    "    times = np.arange(0., end_time, time_step) | units.day\n",
    "    for t in tqdm(times):\n",
    "        #if np.array(abs(gravity_code.particles.x)).any() > 50 | units.AU or np.array(abs(gravity_code.particles.y)).any() > 50 | units.AU or np.array(abs(gravity_code.particles.z)).any() > 50 | units.AU:\n",
    "        #    print('Particle coordinate reached 50 AU', t)\n",
    "        gravity_bridge.evolve_model(t)\n",
    "        if stopping_condition.is_set(): # If particles collide, merge them\n",
    "            resolve_collision(stopping_condition, gravity_code, particle_system, t)\n",
    "        ch_g2l.copy()\n",
    "        \n",
    "        if t == (end_time-time_step) | units.day:\n",
    "            plot.scatter(gravity_bridge.particles.x.in_(units.AU), gravity_bridge.particles.y.in_(units.AU), s= 6)\n",
    "            # Plotting an AU around Jupiter to see if objects are captured\n",
    "            #plot.xlim(gravity_bridge.particles[1].x -  (1 | units.AU), gravity_bridge.particles[1].x + (1 | units.AU))\n",
    "            #plot.ylim(gravity_bridge.particles[1].y -  (1 | units.AU), gravity_bridge.particles[1].y + (1 | units.AU))\n",
    "            for i in range(5):\n",
    "                plot.scatter(gravity_bridge.particles[i].x.in_(units.AU), gravity_bridge.particles[i].y.in_(units.AU), label = names[i])\n",
    "            #plot.text(-35, 32, \"Time = \" + str(t.value_in(units.yr))[0:7] + \" yrs.\")\n",
    "            plt.legend()\n",
    "            fig = plt.gcf()\n",
    "            fig.set_size_inches(12, 9)\n",
    "            clear_output(wait=True) \n",
    "            plt.show()\n",
    "        \n",
    "    gravity_bridge.stop()\n",
    "    return particle_system\n",
    "\n",
    "#MWG_evolved_system = MWG_evolver(final_system, MW_potential, final_converter, N_objects, end_time= 10**5, time_step= 50)"
   ]
  }
 ],
 "metadata": {
  "kernelspec": {
   "display_name": "Python 3",
   "language": "python",
   "name": "python3"
  },
  "language_info": {
   "codemirror_mode": {
    "name": "ipython",
    "version": 3
   },
   "file_extension": ".py",
   "mimetype": "text/x-python",
   "name": "python",
   "nbconvert_exporter": "python",
   "pygments_lexer": "ipython3",
   "version": "3.8.2"
  }
 },
 "nbformat": 4,
 "nbformat_minor": 2
}
