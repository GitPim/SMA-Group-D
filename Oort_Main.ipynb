{
 "cells": [
  {
   "cell_type": "markdown",
   "metadata": {},
   "source": [
    "## Notes\n",
    "\n",
    "- In de laatste cell is het plotten de limiterende factor\n",
    "\n",
    "## Check/To do\n",
    "\n",
    "- Velocity kick\n",
    "- Maak V_orbit vs a_orbit plot tijdens simulatie en check of objecten die V_esc overschrijden ook daadwerkelijk escapen"
   ]
  },
  {
   "cell_type": "code",
   "execution_count": 14,
   "metadata": {},
   "outputs": [],
   "source": [
    "#Here we import all the necessary dependencies\n",
    "import numpy as np\n",
    "import matplotlib.pyplot as plt\n",
    "import time\n",
    "from tqdm import tqdm\n",
    "from IPython.display import clear_output\n",
    "from amuse.lab import units, constants\n",
    "from amuse.ext.orbital_elements import new_binary_from_orbital_elements\n",
    "from amuse.ext.orbital_elements import get_orbital_elements_from_binary\n",
    "from amuse.lab import Particles\n",
    "from amuse.lab import nbody_system\n",
    "from amuse.couple import bridge\n",
    "from amuse.lab import Rebound\n",
    "from amuse.lab import Mercury\n",
    "from amuse.community.ph4.interface import ph4\n",
    "from amuse.io import write_set_to_file, read_set_from_file"
   ]
  },
  {
   "cell_type": "code",
   "execution_count": 2,
   "metadata": {},
   "outputs": [],
   "source": [
    "def random_positions_and_velocities(N_objects, sun_loc):\n",
    "    positions = np.zeros((N_objects, 3)) | units.AU\n",
    "    velocities = np.zeros((N_objects,3)) | units.kms\n",
    "    \n",
    "    m_sun = 1 | units.MSun\n",
    "    m_oort = 0 | units.MSun\n",
    "    for i in range(N_objects):\n",
    "        a = np.random.uniform(4, 40) | units.AU\n",
    "        e = np.random.uniform(0, 0.05)\n",
    "        inclination = np.random.uniform(-5, 5) | units.deg\n",
    "        true_anomaly = np.random.uniform (0, 360) | units.deg\n",
    "        arg_of_periapsis = np.random.uniform(0, 360) | units.deg\n",
    "        long_of_ascending_node = np.random.uniform(0, 360) | units.deg\n",
    "        sun_and_oort = new_binary_from_orbital_elements(m_sun, m_oort, \n",
    "                                          a, e, true_anomaly, inclination, long_of_ascending_node, arg_of_periapsis, G=constants.G)\n",
    "        positions[i] = (sun_and_oort[1].x+sun_loc[0]), (sun_and_oort[1].y+sun_loc[1]), (sun_and_oort[1].z+sun_loc[2])\n",
    "        velocities[i]= sun_and_oort[1].vx, sun_and_oort[1].vy, sun_and_oort[1].vz\n",
    "    return positions, velocities"
   ]
  },
  {
   "cell_type": "code",
   "execution_count": 3,
   "metadata": {},
   "outputs": [],
   "source": [
    "def merge_two_bodies(bodies, particles_in_encounter):\n",
    "    com_pos = particles_in_encounter.center_of_mass()\n",
    "    com_vel = particles_in_encounter.center_of_mass_velocity()\n",
    "    d = (particles_in_encounter[0].position - particles_in_encounter[1].position)\n",
    "    v = (particles_in_encounter[0].velocity - particles_in_encounter[1].velocity)\n",
    "    print(\"Actually merger occurred:\")\n",
    "    print(\"Two objects (M=\",particles_in_encounter.mass.in_(units.MSun),\n",
    "          \") collided with d=\", d.length().in_(units.au))\n",
    "    #time.sleep(10)\n",
    "    new_particle=Particles(1)\n",
    "    new_particle.mass = particles_in_encounter.total_mass()\n",
    "    new_particle.position = com_pos\n",
    "    new_particle.velocity = com_vel\n",
    "    new_particle.radius = particles_in_encounter.radius.sum()\n",
    "    bodies.add_particles(new_particle)\n",
    "    bodies.remove_particles(particles_in_encounter)"
   ]
  },
  {
   "cell_type": "code",
   "execution_count": 4,
   "metadata": {},
   "outputs": [],
   "source": [
    "def resolve_collision(collision_detection, gravity_code, bodies, time):\n",
    "    print(\"Well, we have an actual collision between two or more objects.\")\n",
    "    print(\"This happened at time=\", time.in_(units.yr))\n",
    "    for ci in range(len(collision_detection.particles(0))): \n",
    "        encountering_particles = Particles(particles=[collision_detection.particles(0)[ci],\n",
    "                                                          collision_detection.particles(1)[ci]])\n",
    "        colliding_objects = encountering_particles.get_intersecting_subset_in(bodies)\n",
    "        merge_two_bodies(bodies, colliding_objects)\n",
    "        bodies.synchronize_to(gravity_code.particles)"
   ]
  },
  {
   "cell_type": "code",
   "execution_count": 13,
   "metadata": {},
   "outputs": [
    {
     "name": "stdout",
     "output_type": "stream",
     "text": [
      "|S11\n"
     ]
    }
   ],
   "source": [
    "#Here we generate a basic solarsystem, with only the gas giants\n",
    "from amuse.ext.solarsystem import new_solar_system\n",
    "\n",
    "def create_system():\n",
    "    \n",
    "    system = new_solar_system()\n",
    "    system = system[system.mass > 10**-5 | units.MSun]\n",
    "    system.move_to_center()\n",
    "    return system\n",
    "    \n",
    "    \n",
    "basic_giants_system = create_system()"
   ]
  },
  {
   "cell_type": "code",
   "execution_count": 6,
   "metadata": {},
   "outputs": [],
   "source": [
    "#Define the number of Oort objects and create random velocities and positions\n",
    "N_objects = 5*10**2\n",
    "sun_loc = [basic_giants_system[0].x.in_(units.AU), basic_giants_system[0].y.in_(units.AU), basic_giants_system[0].z.in_(units.AU)]\n",
    "positions, velocities = random_positions_and_velocities(N_objects, sun_loc)"
   ]
  },
  {
   "cell_type": "code",
   "execution_count": 7,
   "metadata": {},
   "outputs": [
    {
     "name": "stderr",
     "output_type": "stream",
     "text": [
      "100%|██████████| 500/500 [00:00<00:00, 1007.19it/s]\n"
     ]
    }
   ],
   "source": [
    "#Here we add the Oort cloud objects, according to a chosen distribution\n",
    "def add_comet_objects(system, N_objects, rand_pos, rand_vel):\n",
    "    \n",
    "    for i in tqdm(range(N_objects)):\n",
    "        oort = Particles(1)\n",
    "        oort.name = \"OORT_\" + str(i)\n",
    "        oort.mass = 0.0 | units.MSun\n",
    "        oort.radius = (2.3 | units.km).in_(units.RSun) #This is purely non-zero for collisional purposes\n",
    "        oort.position = (rand_pos[i, 0], rand_pos[i, 1], rand_pos[i, 2])\n",
    "        oort.velocity = (rand_vel[i, 0], rand_vel[i, 1], rand_vel[i, 2])\n",
    "\n",
    "        system.add_particle(oort)\n",
    "    return system\n",
    "\n",
    "complete_system = add_comet_objects(basic_giants_system, N_objects, positions, velocities)"
   ]
  },
  {
   "cell_type": "code",
   "execution_count": 8,
   "metadata": {},
   "outputs": [
    {
     "data": {
      "text/plain": [
       "<matplotlib.collections.PathCollection at 0x7fb907216190>"
      ]
     },
     "execution_count": 8,
     "metadata": {},
     "output_type": "execute_result"
    },
    {
     "data": {
      "image/png": "[encoded data removed]",
      "text/plain": [
       "<Figure size 432x288 with 1 Axes>"
      ]
     },
     "metadata": {
      "needs_background": "light"
     },
     "output_type": "display_data"
    }
   ],
   "source": [
    "#plot the distribution in the orbital plane\n",
    "import amuse.plot as plot\n",
    "plot.scatter(complete_system.x, complete_system.z)"
   ]
  },
  {
   "cell_type": "code",
   "execution_count": 9,
   "metadata": {},
   "outputs": [],
   "source": [
    "#Here we generate a galactic potential \n",
    "\n",
    "class MilkyWay_galaxy(object):\n",
    "    def __init__(self, \n",
    "                 Mb=1.40592e10| units.MSun,\n",
    "                 Md=8.5608e10| units.MSun,\n",
    "                 Mh=1.07068e11 | units.MSun):\n",
    "        self.Mb= Mb\n",
    "        self.Md= Md\n",
    "        self.Mh= Mh\n",
    "\n",
    "    def get_potential_at_point(self,eps,x,y,z):\n",
    "        r=(x**2+y**2+z**2)**0.5\n",
    "        R= (x**2+y**2)**0.5\n",
    "        # buldge\n",
    "        b1= 0.3873 |units.kpc\n",
    "        pot_bulge= -constants.G*self.Mb/(r**2+b1**2)**0.5 \n",
    "        # disk\n",
    "        a2= 5.31 |units.kpc\n",
    "        b2= 0.25 |units.kpc\n",
    "        pot_disk = -constants.G*self.Md/(R**2 + (a2+ (z**2+ b2**2)**0.5 )**2 )**0.5\n",
    "        #halo\n",
    "        a3= 12.0 |units.kpc\n",
    "        cut_off=100 |units.kpc\n",
    "        d1= r/a3\n",
    "        c=1+ (cut_off/a3)**1.02\n",
    "        pot_halo= -constants.G*(self.Mh/a3)*d1**1.02/(1+ d1**1.02) \\\n",
    "                  - (constants.G*self.Mh/(1.02*a3))\\\n",
    "                      * (-1.02/c +numpy.log(c) + 1.02/(1+d1**1.02) \\\n",
    "                           - numpy.log(1.0 +d1**1.02) )\n",
    "        return 2*(pot_bulge+pot_disk+ pot_halo) \n",
    "                # multiply by 2 because it is a rigid potential\n",
    "    \n",
    "    def get_gravity_at_point(self, eps, x,y,z): \n",
    "        r= (x**2+y**2+z**2)**0.5\n",
    "        R= (x**2+y**2)**0.5\n",
    "        #bulge\n",
    "        b1= 0.3873 |units.kpc\n",
    "        force_bulge= -constants.G*self.Mb/(r**2+b1**2)**1.5 \n",
    "        #disk\n",
    "        a2= 5.31 |units.kpc\n",
    "        b2= 0.25 |units.kpc\n",
    "        d= a2+ (z**2+ b2**2)**0.5\n",
    "        force_disk=-constants.G*self.Md/(R**2+ d**2 )**1.5\n",
    "        #halo\n",
    "        a3= 12.0 |units.kpc\n",
    "        d1= r/a3\n",
    "        force_halo= -constants.G*self.Mh*d1**0.02/(a3**2*(1+d1**1.02))\n",
    "       \n",
    "        ax= force_bulge*x + force_disk*x  + force_halo*x/r\n",
    "        ay= force_bulge*y + force_disk*y  + force_halo*y/r\n",
    "        az= force_bulge*z + force_disk*d*z/(z**2 + b2**2)**0.5 + force_halo*z/r \n",
    "\n",
    "        return ax,ay,az\n",
    "    \n",
    "MW_potential = MilkyWay_galaxy()"
   ]
  },
  {
   "cell_type": "code",
   "execution_count": 10,
   "metadata": {},
   "outputs": [],
   "source": [
    "#Here we create the conditions for the migration of the planets\n",
    "\n",
    "def planet_migration():\n",
    "    \n",
    "    #velocities = \n",
    "    return velocities\n",
    "\n",
    "final_system = complete_system#.add(velocities)\n",
    "final_system.move_to_center()"
   ]
  },
  {
   "cell_type": "code",
   "execution_count": 11,
   "metadata": {},
   "outputs": [],
   "source": [
    "#Here we perform the conversion for the system\n",
    "converter_length = get_orbital_elements_from_binary(final_system[0:2], G = constants.G)[2].in_(units.AU)\n",
    "final_converter=nbody_system.nbody_to_si(final_system.mass.sum(), \n",
    "                                   converter_length)"
   ]
  },
  {
   "cell_type": "code",
   "execution_count": 25,
   "metadata": {},
   "outputs": [
    {
     "ename": "Exception",
     "evalue": "MPI_ERR_SPAWN: could not spawn processes",
     "output_type": "error",
     "traceback": [
      "\u001b[0;31m---------------------------------------------------------------------------\u001b[0m",
      "\u001b[0;31mException\u001b[0m                                 Traceback (most recent call last)",
      "\u001b[0;32m<ipython-input-25-44345a45aa63>\u001b[0m in \u001b[0;36m<module>\u001b[0;34m\u001b[0m\n\u001b[1;32m     44\u001b[0m \u001b[0;34m\u001b[0m\u001b[0m\n\u001b[1;32m     45\u001b[0m \u001b[0;34m\u001b[0m\u001b[0m\n\u001b[0;32m---> 46\u001b[0;31m \u001b[0mvanilla_evolved_system\u001b[0m \u001b[0;34m=\u001b[0m \u001b[0mvanilla_evolver\u001b[0m\u001b[0;34m(\u001b[0m\u001b[0mfinal_system\u001b[0m\u001b[0;34m,\u001b[0m \u001b[0mfinal_converter\u001b[0m\u001b[0;34m,\u001b[0m \u001b[0mN_objects\u001b[0m\u001b[0;34m,\u001b[0m \u001b[0mend_time\u001b[0m\u001b[0;34m=\u001b[0m \u001b[0;36m10\u001b[0m\u001b[0;34m**\u001b[0m\u001b[0;36m5\u001b[0m\u001b[0;34m,\u001b[0m \u001b[0mtime_step\u001b[0m\u001b[0;34m=\u001b[0m \u001b[0;36m50\u001b[0m\u001b[0;34m)\u001b[0m\u001b[0;34m\u001b[0m\u001b[0;34m\u001b[0m\u001b[0m\n\u001b[0m",
      "\u001b[0;32m<ipython-input-25-44345a45aa63>\u001b[0m in \u001b[0;36mvanilla_evolver\u001b[0;34m(particle_system, converter, N_objects, end_time, time_step)\u001b[0m\n\u001b[1;32m      8\u001b[0m         \u001b[0mgravity_code\u001b[0m \u001b[0;34m=\u001b[0m \u001b[0mMercury\u001b[0m\u001b[0;34m(\u001b[0m\u001b[0mfinal_converter\u001b[0m\u001b[0;34m)\u001b[0m\u001b[0;34m\u001b[0m\u001b[0;34m\u001b[0m\u001b[0m\n\u001b[1;32m      9\u001b[0m     \u001b[0;32melse\u001b[0m\u001b[0;34m:\u001b[0m\u001b[0;34m\u001b[0m\u001b[0;34m\u001b[0m\u001b[0m\n\u001b[0;32m---> 10\u001b[0;31m         \u001b[0mgravity_code\u001b[0m \u001b[0;34m=\u001b[0m \u001b[0mph4\u001b[0m\u001b[0;34m(\u001b[0m\u001b[0mfinal_converter\u001b[0m\u001b[0;34m)\u001b[0m\u001b[0;34m\u001b[0m\u001b[0;34m\u001b[0m\u001b[0m\n\u001b[0m\u001b[1;32m     11\u001b[0m \u001b[0;34m\u001b[0m\u001b[0m\n\u001b[1;32m     12\u001b[0m     \u001b[0mstopping_condition\u001b[0m \u001b[0;34m=\u001b[0m \u001b[0mgravity_code\u001b[0m\u001b[0;34m.\u001b[0m\u001b[0mstopping_conditions\u001b[0m\u001b[0;34m.\u001b[0m\u001b[0mcollision_detection\u001b[0m\u001b[0;34m\u001b[0m\u001b[0;34m\u001b[0m\u001b[0m\n",
      "\u001b[0;32m~/Amuse-env/lib/python3.8/site-packages/amuse/community/ph4/interface.py\u001b[0m in \u001b[0;36m__init__\u001b[0;34m(self, convert_nbody, **keyword_arguments)\u001b[0m\n\u001b[1;32m    469\u001b[0m \u001b[0;34m\u001b[0m\u001b[0m\n\u001b[1;32m    470\u001b[0m     \u001b[0;32mdef\u001b[0m \u001b[0m__init__\u001b[0m\u001b[0;34m(\u001b[0m\u001b[0mself\u001b[0m\u001b[0;34m,\u001b[0m \u001b[0mconvert_nbody\u001b[0m \u001b[0;34m=\u001b[0m \u001b[0;32mNone\u001b[0m\u001b[0;34m,\u001b[0m \u001b[0;34m**\u001b[0m\u001b[0mkeyword_arguments\u001b[0m\u001b[0;34m)\u001b[0m\u001b[0;34m:\u001b[0m\u001b[0;34m\u001b[0m\u001b[0;34m\u001b[0m\u001b[0m\n\u001b[0;32m--> 471\u001b[0;31m         \u001b[0mlegacy_interface\u001b[0m \u001b[0;34m=\u001b[0m \u001b[0mph4Interface\u001b[0m\u001b[0;34m(\u001b[0m\u001b[0;34m**\u001b[0m\u001b[0mkeyword_arguments\u001b[0m\u001b[0;34m)\u001b[0m\u001b[0;34m\u001b[0m\u001b[0;34m\u001b[0m\u001b[0m\n\u001b[0m\u001b[1;32m    472\u001b[0m \u001b[0;34m\u001b[0m\u001b[0m\n\u001b[1;32m    473\u001b[0m         \u001b[0mself\u001b[0m\u001b[0;34m.\u001b[0m\u001b[0mstopping_conditions\u001b[0m \u001b[0;34m=\u001b[0m \u001b[0mStoppingConditions\u001b[0m\u001b[0;34m(\u001b[0m\u001b[0mself\u001b[0m\u001b[0;34m)\u001b[0m\u001b[0;34m\u001b[0m\u001b[0;34m\u001b[0m\u001b[0m\n",
      "\u001b[0;32m~/Amuse-env/lib/python3.8/site-packages/amuse/community/ph4/interface.py\u001b[0m in \u001b[0;36m__init__\u001b[0;34m(self, mode, **options)\u001b[0m\n\u001b[1;32m     29\u001b[0m \u001b[0;34m\u001b[0m\u001b[0m\n\u001b[1;32m     30\u001b[0m     \u001b[0;32mdef\u001b[0m \u001b[0m__init__\u001b[0m\u001b[0;34m(\u001b[0m\u001b[0mself\u001b[0m\u001b[0;34m,\u001b[0m \u001b[0mmode\u001b[0m \u001b[0;34m=\u001b[0m \u001b[0mMODE_CPU\u001b[0m\u001b[0;34m,\u001b[0m \u001b[0;34m**\u001b[0m\u001b[0moptions\u001b[0m\u001b[0;34m)\u001b[0m\u001b[0;34m:\u001b[0m\u001b[0;34m\u001b[0m\u001b[0;34m\u001b[0m\u001b[0m\n\u001b[0;32m---> 31\u001b[0;31m         CodeInterface.__init__(\n\u001b[0m\u001b[1;32m     32\u001b[0m             \u001b[0mself\u001b[0m\u001b[0;34m,\u001b[0m\u001b[0;34m\u001b[0m\u001b[0;34m\u001b[0m\u001b[0m\n\u001b[1;32m     33\u001b[0m             \u001b[0mname_of_the_worker\u001b[0m\u001b[0;34m=\u001b[0m\u001b[0mself\u001b[0m\u001b[0;34m.\u001b[0m\u001b[0mname_of_the_muse_worker\u001b[0m\u001b[0;34m(\u001b[0m\u001b[0mmode\u001b[0m\u001b[0;34m)\u001b[0m\u001b[0;34m,\u001b[0m\u001b[0;34m\u001b[0m\u001b[0;34m\u001b[0m\u001b[0m\n",
      "\u001b[0;32m~/Amuse-env/lib/python3.8/site-packages/amuse/rfi/core.py\u001b[0m in \u001b[0;36m__init__\u001b[0;34m(self, name_of_the_worker, **options)\u001b[0m\n\u001b[1;32m    750\u001b[0m \u001b[0;34m\u001b[0m\u001b[0m\n\u001b[1;32m    751\u001b[0m         \u001b[0;32mif\u001b[0m \u001b[0mself\u001b[0m\u001b[0;34m.\u001b[0m\u001b[0mmust_start_worker\u001b[0m\u001b[0;34m:\u001b[0m\u001b[0;34m\u001b[0m\u001b[0;34m\u001b[0m\u001b[0m\n\u001b[0;32m--> 752\u001b[0;31m             \u001b[0mself\u001b[0m\u001b[0;34m.\u001b[0m\u001b[0m_start\u001b[0m\u001b[0;34m(\u001b[0m\u001b[0mname_of_the_worker\u001b[0m \u001b[0;34m=\u001b[0m \u001b[0mname_of_the_worker\u001b[0m\u001b[0;34m,\u001b[0m \u001b[0;34m**\u001b[0m\u001b[0moptions\u001b[0m\u001b[0;34m)\u001b[0m\u001b[0;34m\u001b[0m\u001b[0;34m\u001b[0m\u001b[0m\n\u001b[0m\u001b[1;32m    753\u001b[0m \u001b[0;34m\u001b[0m\u001b[0m\n\u001b[1;32m    754\u001b[0m     \u001b[0;32mdef\u001b[0m \u001b[0m__del__\u001b[0m\u001b[0;34m(\u001b[0m\u001b[0mself\u001b[0m\u001b[0;34m)\u001b[0m\u001b[0;34m:\u001b[0m\u001b[0;34m\u001b[0m\u001b[0;34m\u001b[0m\u001b[0m\n",
      "\u001b[0;32m~/Amuse-env/lib/python3.8/site-packages/amuse/rfi/core.py\u001b[0m in \u001b[0;36m_start\u001b[0;34m(self, name_of_the_worker, interpreter_executable, **options)\u001b[0m\n\u001b[1;32m    778\u001b[0m         \u001b[0mself\u001b[0m\u001b[0;34m.\u001b[0m\u001b[0mchannel\u001b[0m\u001b[0;34m.\u001b[0m\u001b[0minitialize_mpi\u001b[0m \u001b[0;34m=\u001b[0m \u001b[0mself\u001b[0m\u001b[0;34m.\u001b[0m\u001b[0minitialize_mpi\u001b[0m\u001b[0;34m\u001b[0m\u001b[0;34m\u001b[0m\u001b[0m\n\u001b[1;32m    779\u001b[0m \u001b[0;34m\u001b[0m\u001b[0m\n\u001b[0;32m--> 780\u001b[0;31m         \u001b[0mself\u001b[0m\u001b[0;34m.\u001b[0m\u001b[0mchannel\u001b[0m\u001b[0;34m.\u001b[0m\u001b[0mstart\u001b[0m\u001b[0;34m(\u001b[0m\u001b[0;34m)\u001b[0m\u001b[0;34m\u001b[0m\u001b[0;34m\u001b[0m\u001b[0m\n\u001b[0m\u001b[1;32m    781\u001b[0m \u001b[0;34m\u001b[0m\u001b[0m\n\u001b[1;32m    782\u001b[0m         \u001b[0;31m# must register stop interfaces after channel start\u001b[0m\u001b[0;34m\u001b[0m\u001b[0;34m\u001b[0m\u001b[0;34m\u001b[0m\u001b[0m\n",
      "\u001b[0;32m~/Amuse-env/lib/python3.8/site-packages/amuse/rfi/channel.py\u001b[0m in \u001b[0;36mstart\u001b[0;34m(self)\u001b[0m\n\u001b[1;32m   1065\u001b[0m         \u001b[0mlogger\u001b[0m\u001b[0;34m.\u001b[0m\u001b[0mdebug\u001b[0m\u001b[0;34m(\u001b[0m\u001b[0;34m\"spawning %d mpi processes with command `%s`, arguments `%s` and environment '%s'\"\u001b[0m\u001b[0;34m,\u001b[0m \u001b[0mself\u001b[0m\u001b[0;34m.\u001b[0m\u001b[0mnumber_of_workers\u001b[0m\u001b[0;34m,\u001b[0m \u001b[0mcommand\u001b[0m\u001b[0;34m,\u001b[0m \u001b[0marguments\u001b[0m\u001b[0;34m,\u001b[0m \u001b[0mos\u001b[0m\u001b[0;34m.\u001b[0m\u001b[0menviron\u001b[0m\u001b[0;34m)\u001b[0m\u001b[0;34m\u001b[0m\u001b[0;34m\u001b[0m\u001b[0m\n\u001b[1;32m   1066\u001b[0m \u001b[0;34m\u001b[0m\u001b[0m\n\u001b[0;32m-> 1067\u001b[0;31m         \u001b[0mself\u001b[0m\u001b[0;34m.\u001b[0m\u001b[0mintercomm\u001b[0m \u001b[0;34m=\u001b[0m \u001b[0mMPI\u001b[0m\u001b[0;34m.\u001b[0m\u001b[0mCOMM_SELF\u001b[0m\u001b[0;34m.\u001b[0m\u001b[0mSpawn\u001b[0m\u001b[0;34m(\u001b[0m\u001b[0mcommand\u001b[0m\u001b[0;34m,\u001b[0m \u001b[0marguments\u001b[0m\u001b[0;34m,\u001b[0m \u001b[0mself\u001b[0m\u001b[0;34m.\u001b[0m\u001b[0mnumber_of_workers\u001b[0m\u001b[0;34m,\u001b[0m \u001b[0minfo\u001b[0m\u001b[0;34m=\u001b[0m\u001b[0mself\u001b[0m\u001b[0;34m.\u001b[0m\u001b[0minfo\u001b[0m\u001b[0;34m)\u001b[0m\u001b[0;34m\u001b[0m\u001b[0;34m\u001b[0m\u001b[0m\n\u001b[0m\u001b[1;32m   1068\u001b[0m \u001b[0;34m\u001b[0m\u001b[0m\n\u001b[1;32m   1069\u001b[0m         \u001b[0mlogger\u001b[0m\u001b[0;34m.\u001b[0m\u001b[0mdebug\u001b[0m\u001b[0;34m(\u001b[0m\u001b[0;34m\"worker spawn done\"\u001b[0m\u001b[0;34m)\u001b[0m\u001b[0;34m\u001b[0m\u001b[0;34m\u001b[0m\u001b[0m\n",
      "\u001b[0;32mmpi4py/MPI/Comm.pyx\u001b[0m in \u001b[0;36mmpi4py.MPI.Intracomm.Spawn\u001b[0;34m()\u001b[0m\n",
      "\u001b[0;31mException\u001b[0m: MPI_ERR_SPAWN: could not spawn processes"
     ]
    }
   ],
   "source": [
    "#Here we evolve the basic system, without grandtack or Milky way potential\n",
    "\n",
    "def vanilla_evolver(particle_system, converter, N_objects, end_time=4*10**3, time_step=0.1):\n",
    "    \n",
    "    names = ['Sun', 'Jupiter', 'Saturn', 'Uranus', 'Neptune']\n",
    "    \n",
    "    if N_objects > 2*10**3:\n",
    "        gravity_code = Mercury(final_converter)\n",
    "    else:\n",
    "        gravity_code = ph4(final_converter)\n",
    "    \n",
    "    stopping_condition = gravity_code.stopping_conditions.collision_detection\n",
    "    stopping_condition.enable()\n",
    "    \n",
    "    gravity_code.particles.add_particles(particle_system)\n",
    "    ch_g2l = gravity_code.particles.new_channel_to(particle_system)\n",
    "    \n",
    "    times = np.arange(0., end_time, time_step) | units.day\n",
    "    \n",
    "    for i in tqdm(range(len(times))):\n",
    "        #if np.array(abs(gravity_code.particles.x)).any() > 50 | units.AU or np.array(abs(gravity_code.particles.y)).any() > 50 | units.AU or np.array(abs(gravity_code.particles.z)).any() > 50 | units.AU:\n",
    "        #    print('Ja', t)\n",
    "        gravity_code.evolve_model(times[i])\n",
    "        if stopping_condition.is_set():\n",
    "            resolve_collision(stopping_condition, gravity_code, particle_system, t)\n",
    "        ch_g2l.copy()\n",
    "        \n",
    "        if times[i] == (end_time-time_step) | units.day:\n",
    "            plot.scatter(gravity_code.particles.x.in_(units.AU), gravity_code.particles.y.in_(units.AU), s= 6)\n",
    "            # Plotting an AU around Jupiter to see if objects are captured\n",
    "            #plot.xlim(gravity_code.particles[1].x -  (1 | units.AU), gravity_code.particles[1].x + (1 | units.AU))\n",
    "            #plot.ylim(gravity_code.particles[1].y -  (1 | units.AU), gravity_code.particles[1].y + (1 | units.AU))\n",
    "            for j in range(5):\n",
    "                plot.scatter(gravity_code.particles[j].x.in_(units.AU), gravity_code.particles[j].y.in_(units.AU), label = names[j])\n",
    "            #plot.text(-35, 32, \"Time = \" + str(times[i].value_in(units.yr))[0:7] + \" yrs.\")\n",
    "            plt.legend()\n",
    "            fig = plt.gcf()\n",
    "            fig.set_size_inches(12, 9)\n",
    "            clear_output(wait=True) \n",
    "            plt.show()\n",
    "            \n",
    "        \n",
    "        \n",
    "    gravity_code.stop()\n",
    "    return particle_system\n",
    "    \n",
    "    \n",
    "vanilla_evolved_system = vanilla_evolver(final_system, final_converter, N_objects, end_time= 10**5, time_step= 50)\n"
   ]
  },
  {
   "cell_type": "code",
   "execution_count": null,
   "metadata": {},
   "outputs": [],
   "source": [
    "#Here we evolve the basic system, with Milky way potential\n",
    "def MWG_evolver(particle_system, potential, converter, N_objects, end_time=4*10**3, time_step=0.1):\n",
    "    names = ['Sun', 'Jupiter', 'Saturn', 'Uranus', 'Neptune']\n",
    "    \n",
    "    if N_objects > 2*10**3:\n",
    "        gravity_code = Mercury(final_converter)\n",
    "    else:\n",
    "        gravity_code = ph4(final_converter)\n",
    "    \n",
    "    stopping_condition = gravity_code.stopping_conditions.collision_detection\n",
    "    stopping_condition.enable()\n",
    "    \n",
    "    gravity_code.particles.add_particles(particle_system)\n",
    "    ch_g2l = gravity_code.particles.new_channel_to(particle_system)\n",
    "    \n",
    "    gravity_bridge = 0\n",
    "    gravity_bridge = bridge.Bridge(use_threading=False)\n",
    "    gravity_bridge.add_system(gravity_code, (potential,) )\n",
    "    gravity_bridge.timestep = time_step|units.day\n",
    "    \n",
    "    times = np.arange(0., end_time, time_step) | units.day\n",
    "    for t in tqdm(times):\n",
    "        #if np.array(abs(gravity_code.particles.x)).any() > 50 | units.AU or np.array(abs(gravity_code.particles.y)).any() > 50 | units.AU or np.array(abs(gravity_code.particles.z)).any() > 50 | units.AU:\n",
    "        #    print('Ja', t)\n",
    "        gravity_bridge.evolve_model(t)\n",
    "        if stopping_condition.is_set():\n",
    "            resolve_collision(stopping_condition, gravity_code, particle_system, t)\n",
    "        ch_g2l.copy()\n",
    "        \n",
    "        if t == (end_time-time_step) | units.day:\n",
    "            plot.scatter(gravity_bridge.particles.x.in_(units.AU), gravity_bridge.particles.y.in_(units.AU), s= 6)\n",
    "            # Plotting an AU around Jupiter to see if objects are captured\n",
    "            #plot.xlim(gravity_bridge.particles[1].x -  (1 | units.AU), gravity_bridge.particles[1].x + (1 | units.AU))\n",
    "            #plot.ylim(gravity_bridge.particles[1].y -  (1 | units.AU), gravity_bridge.particles[1].y + (1 | units.AU))\n",
    "            for i in range(5):\n",
    "                plot.scatter(gravity_bridge.particles[i].x.in_(units.AU), gravity_bridge.particles[i].y.in_(units.AU), label = names[i])\n",
    "            #plot.text(-35, 32, \"Time = \" + str(t.value_in(units.yr))[0:7] + \" yrs.\")\n",
    "            plt.legend()\n",
    "            fig = plt.gcf()\n",
    "            fig.set_size_inches(12, 9)\n",
    "            clear_output(wait=True) \n",
    "            plt.show()\n",
    "        \n",
    "    gravity_bridge.stop()\n",
    "    return particle_system\n",
    "\n",
    "#MWG_evolved_system = MWG_evolver(final_system, MW_potential, final_converter, N_objects, end_time= 10**5, time_step= 50)"
   ]
  },
  {
   "cell_type": "code",
   "execution_count": null,
   "metadata": {},
   "outputs": [],
   "source": [
    "#For 10**2 objects with no plotting, no mass change, no collisions, ph4 and MWG, about 50 it/s (tend = 10**5, timestep = 50)\n",
    "\n",
    "#For 10**2 objects with no plotting, no mass change, no collisions, ph4 and no MWG, about 250 it/s (tend = 10**5, timestep = 50)\n",
    "#For 10**3 objects with no plotting, no mass change, no collisions, ph4 and no MWG, about 15-20 it/s (tend = 10**5, timestep = 50)\n",
    "#For 10**4 objects with no plotting, no mass change, no collisions, ph4 and no MWG, about 1/15 it/s (tend = 10**5, timestep = 50)\n",
    "\n",
    "#For 10**2 objects with no plotting, no mass change, no collisions, Mercury and no MWG, about 65 it/s (tend = 10**5, timestep = 50)\n",
    "#For 10**3 objects with no plotting, no mass change, no collisions, Mercury and no MWG, about 13 it/s (tend = 10**5, timestep = 50)\n",
    "#For 10**4 objects with no plotting, no mass change, no collisions, Mercury and no MWG, about 1/2.5 it/s (tend = 10**5, timestep = 50)"
   ]
  },
  {
   "cell_type": "code",
   "execution_count": null,
   "metadata": {},
   "outputs": [],
   "source": []
  }
 ],
 "metadata": {
  "kernelspec": {
   "display_name": "Python 3",
   "language": "python",
   "name": "python3"
  },
  "language_info": {
   "codemirror_mode": {
    "name": "ipython",
    "version": 3
   },
   "file_extension": ".py",
   "mimetype": "text/x-python",
   "name": "python",
   "nbconvert_exporter": "python",
   "pygments_lexer": "ipython3",
   "version": "3.8.2"
  }
 },
 "nbformat": 4,
 "nbformat_minor": 2
}
