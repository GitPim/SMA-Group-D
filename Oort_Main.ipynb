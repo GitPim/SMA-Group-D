{
 "cells": [
  {
   "cell_type": "markdown",
   "metadata": {},
   "source": [
    "## Notes\n",
    "\n",
    "- Alle velocities zijn clockwise\n",
    "- In de laatste cell is het plotten de limiterende factor\n",
    "\n",
    "## Check/To do\n",
    "\n",
    "- Er is een bias tegen initiele posities met x ~ 0. Vermoedelijk doordat x als laatste wordt gedefinieerd adhv het restant, wat nauwelijks 0 zal zijn. Probeer dit te fixen\n",
    "- Is de code nu inderdaad wel een 6-body problem of niet? Bij 10^4 objecten duurt 1 stap al ~10 tellen\n",
    "- Velocity kick\n",
    "- Is een bridge nodig?\n",
    "- Time step bridge/planeetstelsel\n",
    "- Maak V_orbit vs a_orbit plot tijdens simulatie en check of objecten die V_esc overschrijden ook daadwerkelijk escapen",
    "- Kijk of objecten dicht bij de planeten bound worden aan die planeet."
   ]
  },
  {
   "cell_type": "code",
   "execution_count": 1,
   "metadata": {},
   "outputs": [],
   "source": [
    "#Here we import all the necessary dependencies\n",
    "import numpy as np\n",
    "import matplotlib.pyplot as plt\n",
    "import time\n",
    "from tqdm import tqdm\n",
    "from IPython.display import clear_output\n",
    "from amuse.lab import units, constants\n",
    "from amuse.ext.orbital_elements import new_binary_from_orbital_elements\n",
    "from amuse.lab import Particles\n",
    "from amuse.lab import nbody_system\n",
    "from amuse.couple import bridge"
   ]
  },
  {
   "cell_type": "code",
   "execution_count": 2,
   "metadata": {},
   "outputs": [],
   "source": [
    "#Some constants for easier calculations\n",
    "G = 6.67259*10**-11\n",
    "AU = 149597871000"
   ]
  },
  {
   "cell_type": "code",
   "execution_count": 3,
   "metadata": {},
   "outputs": [],
   "source": [
    "#Defining handy functions to be used later\n",
    "def cross(a, b):\n",
    "    c = (a[1]*b[2] - a[2]*b[1],\n",
    "         a[2]*b[0] - a[0]*b[2],\n",
    "         a[0]*b[1] - a[1]*b[0])\n",
    "\n",
    "    return c\n",
    "\n",
    "def random_sign(N_objects):\n",
    "    return (2*np.random.randint(0,2,size=(N_objects))-1)\n",
    "\n",
    "def random_position(N_objects): #There is probably some AMUSE function for this\n",
    "    semi_major_axis = np.random.uniform(4, 40, N_objects) \n",
    "    inclination = np.random.uniform(-5, 5, N_objects) * (2*np.pi/360) #Tranforming to rad\n",
    "    \n",
    "    z = random_sign(N_objects)*(np.sqrt((np.tan(inclination)**2)/(1+np.tan(inclination)**2))*semi_major_axis)\n",
    "    remainder = (np.sqrt(semi_major_axis**2-z**2))\n",
    "    y = random_sign(N_objects)*np.random.uniform(0, remainder)\n",
    "    x = random_sign(N_objects)*np.sqrt(remainder**2-y**2)\n",
    "    position = (x, y, z)\n",
    "    return position, inclination\n",
    "    \n",
    "def random_velocity(position, inclination, system, N_objects): #There is probably some AMUSE function for this\n",
    "    distance = np.sqrt(position[0]**2+position[1]**2+position[2]**2)\n",
    "    normal_plane = np.sqrt((distance**2)/(1+(1/(np.tan(inclination)**2))))\n",
    "    \n",
    "    z_normal = (normal_plane/np.tan(inclination))\n",
    "    y_normal = (np.sqrt(distance**2-z_normal**2)*position[1]/np.sqrt(position[0]**2+position[1]**2))\n",
    "    x_normal = (np.sqrt(distance**2-z_normal**2)*position[0]/np.sqrt(position[0]**2+position[1]**2))\n",
    "    \n",
    "    normal_vector = (x_normal, y_normal, z_normal)\n",
    "\n",
    "    normalised_normal = (normal_vector/(np.sqrt(normal_vector[0]**2+normal_vector[1]**2+normal_vector[2]**2)))\n",
    "    normalised_position = (position/(np.sqrt(position[0]**2+position[1]**2+position[2]**2)))\n",
    "    \n",
    "    normalised_velocity = cross(normalised_normal, normalised_position)\n",
    "    velocity_length = np.sqrt(G*system.mass.sum().value_in(units.kg)/(distance*AU))\n",
    "    \n",
    "    #Infer a counter_clockwise orbit\n",
    "    sign = np.zeros(N_objects)\n",
    "    for i in range(N_objects):\n",
    "        if position[0][i] > 0 and position[1][i]  > 0 and normalised_velocity[0][i]  > 0 and normalised_velocity[1][i]  < 0:\n",
    "            sign[i] =-1\n",
    "        elif position[0][i]  < 0 and position[1][i]  > 0 and normalised_velocity[0][i]  > 0 and normalised_velocity[1][i]  > 0:\n",
    "            sign[i] = -1\n",
    "        elif position[0][i]  < 0 and position[1][i]  < 0 and normalised_velocity[0][i]  < 0 and normalised_velocity[1][i]  > 0:\n",
    "            sign[i] = -1\n",
    "        elif position[0][i]  > 0 and position[1][i]  < 0 and normalised_velocity[0][i]  < 0 and normalised_velocity[1][i]  < 0:\n",
    "            sign[i] = -1\n",
    "        else:\n",
    "            sign[i] = 1\n",
    "    \n",
    "    vx = sign*normalised_velocity[0]*velocity_length\n",
    "    vy = sign*normalised_velocity[1]*velocity_length\n",
    "    vz = normalised_velocity[2]*velocity_length\n",
    "    \n",
    "    return (vx/1000., vy/1000., vz/1000.)"
   ]
  },
  {
   "cell_type": "code",
   "execution_count": 4,
   "metadata": {},
   "outputs": [
    {
     "name": "stdout",
     "output_type": "stream",
     "text": [
      "|S11\n"
     ]
    }
   ],
   "source": [
    "#Here we generate a basic solarsystem, with only the gas giants\n",
    "from amuse.ext.solarsystem import new_solar_system\n",
    "\n",
    "def create_system():\n",
    "    \n",
    "    system = new_solar_system()\n",
    "    system = system[system.mass > 10**-5 | units.MSun]\n",
    "    system.move_to_center()\n",
    "    return system\n",
    "    \n",
    "    \n",
    "basic_giants_system = create_system()"
   ]
  },
  {
   "cell_type": "code",
   "execution_count": 5,
   "metadata": {},
   "outputs": [],
   "source": [
    "#Define the number of Oort objects and create random velocities and positions\n",
    "N_objects = 10**3\n",
    "positions = random_position(N_objects)\n",
    "velocities = random_velocity(positions[0], positions[1], basic_giants_system, N_objects)"
   ]
  },
  {
   "cell_type": "code",
   "execution_count": 6,
   "metadata": {},
   "outputs": [
    {
     "name": "stderr",
     "output_type": "stream",
     "text": [
      "100%|██████████| 1000/1000 [00:01<00:00, 891.96it/s]\n"
     ]
    }
   ],
   "source": [
    "#Here we add the Oort cloud objects, according to a chosen distribution\n",
    "def add_oort_objects(system, N_objects, rand_pos, rand_vel):\n",
    "    \n",
    "    for i in tqdm(range(N_objects)):\n",
    "        oort = Particles(1)\n",
    "        oort.name = \"OORT_\" + str(i)\n",
    "        oort.mass = 0.0 | units.MSun\n",
    "        oort.position = (rand_pos[0][i], rand_pos[1][i], rand_pos[2][i]) | units.AU#Take eccentricity + inclination + semi-major axis according to some dist.\n",
    "        oort.velocity = (rand_vel[0][i], rand_vel[1][i], rand_vel[2][i])  | units.kms\n",
    "\n",
    "        system.add_particle(oort)\n",
    "    return system\n",
    "\n",
    "complete_system = add_oort_objects(basic_giants_system, N_objects, positions[0], velocities)"
   ]
  },
  {
   "cell_type": "code",
   "execution_count": 7,
   "metadata": {},
   "outputs": [
    {
     "data": {
      "text/plain": [
       "<matplotlib.collections.PathCollection at 0x7f4123ec0700>"
      ]
     },
     "execution_count": 7,
     "metadata": {},
     "output_type": "execute_result"
    },
    {
     "data": {
      "image/png": "[encoded data removed]",
      "text/plain": [
       "<Figure size 432x288 with 1 Axes>"
      ]
     },
     "metadata": {
      "needs_background": "light"
     },
     "output_type": "display_data"
    }
   ],
   "source": [
    "#plot the distribution in the orbital plane\n",
    "import amuse.plot as plot\n",
    "plot.scatter(complete_system.x, complete_system.y)"
   ]
  },
  {
   "cell_type": "code",
   "execution_count": 8,
   "metadata": {},
   "outputs": [],
   "source": [
    "#Here we generate a galactic potential \n",
    "\n",
    "class MilkyWay_galaxy(object):\n",
    "    def __init__(self, \n",
    "                 Mb=1.40592e10| units.MSun,\n",
    "                 Md=8.5608e10| units.MSun,\n",
    "                 Mh=1.07068e11 | units.MSun):\n",
    "        self.Mb= Mb\n",
    "        self.Md= Md\n",
    "        self.Mh= Mh\n",
    "\n",
    "    def get_potential_at_point(self,eps,x,y,z):\n",
    "        r=(x**2+y**2+z**2)**0.5\n",
    "        R= (x**2+y**2)**0.5\n",
    "        # buldge\n",
    "        b1= 0.3873 |units.kpc\n",
    "        pot_bulge= -constants.G*self.Mb/(r**2+b1**2)**0.5 \n",
    "        # disk\n",
    "        a2= 5.31 |units.kpc\n",
    "        b2= 0.25 |units.kpc\n",
    "        pot_disk = -constants.G*self.Md/(R**2 + (a2+ (z**2+ b2**2)**0.5 )**2 )**0.5\n",
    "        #halo\n",
    "        a3= 12.0 |units.kpc\n",
    "        cut_off=100 |units.kpc\n",
    "        d1= r/a3\n",
    "        c=1+ (cut_off/a3)**1.02\n",
    "        pot_halo= -constants.G*(self.Mh/a3)*d1**1.02/(1+ d1**1.02) \\\n",
    "                  - (constants.G*self.Mh/(1.02*a3))\\\n",
    "                      * (-1.02/c +numpy.log(c) + 1.02/(1+d1**1.02) \\\n",
    "                           - numpy.log(1.0 +d1**1.02) )\n",
    "        return 2*(pot_bulge+pot_disk+ pot_halo) \n",
    "                # multiply by 2 because it is a rigid potential\n",
    "    \n",
    "    def get_gravity_at_point(self, eps, x,y,z): \n",
    "        r= (x**2+y**2+z**2)**0.5\n",
    "        R= (x**2+y**2)**0.5\n",
    "        #bulge\n",
    "        b1= 0.3873 |units.kpc\n",
    "        force_bulge= -constants.G*self.Mb/(r**2+b1**2)**1.5 \n",
    "        #disk\n",
    "        a2= 5.31 |units.kpc\n",
    "        b2= 0.25 |units.kpc\n",
    "        d= a2+ (z**2+ b2**2)**0.5\n",
    "        force_disk=-constants.G*self.Md/(R**2+ d**2 )**1.5\n",
    "        #halo\n",
    "        a3= 12.0 |units.kpc\n",
    "        d1= r/a3\n",
    "        force_halo= -constants.G*self.Mh*d1**0.02/(a3**2*(1+d1**1.02))\n",
    "       \n",
    "        ax= force_bulge*x + force_disk*x  + force_halo*x/r\n",
    "        ay= force_bulge*y + force_disk*y  + force_halo*y/r\n",
    "        az= force_bulge*z + force_disk*d*z/(z**2 + b2**2)**0.5 + force_halo*z/r \n",
    "\n",
    "        return ax,ay,az\n",
    "    \n",
    "MW_potential = MilkyWay_galaxy()"
   ]
  },
  {
   "cell_type": "code",
   "execution_count": 9,
   "metadata": {},
   "outputs": [],
   "source": [
    "#Here we create the conditions for the migration of the planets\n",
    "\n",
    "def planet_migration():\n",
    "    \n",
    "    #velocities = \n",
    "    return velocities\n",
    "\n",
    "final_system = complete_system#.add(velocities)\n",
    "final_system.move_to_center()"
   ]
  },
  {
   "cell_type": "code",
   "execution_count": 10,
   "metadata": {},
   "outputs": [],
   "source": [
    "#Here we perform the conversion for the system\n",
    "\n",
    "final_converter=nbody_system.nbody_to_si(final_system.mass.sum(), #CHECK IF THIS IS CORRECT\n",
    "                                   final_system.position.length())"
   ]
  },
  {
   "cell_type": "code",
   "execution_count": 11,
   "metadata": {},
   "outputs": [
    {
     "data": {
      "image/png": "[encoded data removed]",
      "text/plain": [
       "<Figure size 864x648 with 1 Axes>"
      ]
     },
     "metadata": {
      "needs_background": "light"
     },
     "output_type": "display_data"
    },
    {
     "name": "stderr",
     "output_type": "stream",
     "text": [
      "100%|██████████| 200/200 [02:09<00:00,  1.54it/s]\n"
     ]
    }
   ],
   "source": [
    "#Here we evolve the system, also plotting the spatial evolution of the objects\n",
    "from amuse.community.ph4.interface import ph4\n",
    "\n",
    "def evolver(particle_system, potential, converter, N_objects, end_time=4*10**3, time_step=0.1):\n",
    "    \n",
    "    gravity_code = ph4(converter)\n",
    "    gravity_code.particles.add_particles(particle_system)\n",
    "    ch_g2l = gravity_code.particles.new_channel_to(particle_system)\n",
    "    \n",
    "    gravity_bridge = 0\n",
    "    gravity_bridge = bridge.Bridge(use_threading=False)\n",
    "    gravity_bridge.add_system(gravity_code, (potential,) )\n",
    "    gravity_bridge.timestep = time_step|units.day\n",
    "\n",
    "    times = np.arange(0., end_time, time_step) | units.day\n",
    "    for t in tqdm(times):\n",
    "        gravity_bridge.evolve_model(t)\n",
    "        ch_g2l.copy()\n",
    "        \n",
    "        #counter_clockwise, clockwise = 0, 0\n",
    "        \n",
    "        plot.scatter(gravity_bridge.particles.x, gravity_bridge.particles.y, s= 2)\n",
    "        names = ['Sun', 'Jupiter', 'Saturn', 'Uranus', 'Neptune']\n",
    "        for i in range(5):\n",
    "            plot.scatter(gravity_bridge.particles[i].x, gravity_bridge.particles[i].y, label = names[i])\n",
    "        plt.legend()\n",
    "            \n",
    "            #proof that all orbits are counter_clockwise\n",
    "        \n",
    "            #if gravity_bridge.particles[i].vx < 0 | units.kms and gravity_bridge.particles[i].vy < 0 | units.kms and gravity_bridge.particles[i].x < 0 | units.AU and gravity_bridge.particles[i].y > 0 | units.AU:\n",
    "            #    counter_clockwise += 1\n",
    "            #elif gravity_bridge.particles[i].vx > 0 | units.kms and gravity_bridge.particles[i].vy > 0 | units.kms and gravity_bridge.particles[i].x < 0 | units.AU and gravity_bridge.particles[i].y > 0 | units.AU:\n",
    "            #    clockwise += 1\n",
    "        #print(counter_clockwise, clockwise)\n",
    "        fig = plt.gcf()\n",
    "        fig.set_size_inches(12, 9)\n",
    "        clear_output(wait=True) \n",
    "        plt.show()\n",
    "        \n",
    "    gravity_bridge.stop()\n",
    "    \n",
    "    \n",
    "    \n",
    "evolved_system = evolver(final_system, MW_potential, final_converter, N_objects, end_time= 10000, time_step= 50)"
   ]
  },
  {
   "cell_type": "code",
   "execution_count": null,
   "metadata": {},
   "outputs": [],
   "source": []
  },
  {
   "cell_type": "code",
   "execution_count": null,
   "metadata": {},
   "outputs": [],
   "source": []
  }
 ],
 "metadata": {
  "kernelspec": {
   "display_name": "Python 3",
   "language": "python",
   "name": "python3"
  },
  "language_info": {
   "codemirror_mode": {
    "name": "ipython",
    "version": 3
   },
   "file_extension": ".py",
   "mimetype": "text/x-python",
   "name": "python",
   "nbconvert_exporter": "python",
   "pygments_lexer": "ipython3",
   "version": "3.8.2"
  }
 },
 "nbformat": 4,
 "nbformat_minor": 2
}
